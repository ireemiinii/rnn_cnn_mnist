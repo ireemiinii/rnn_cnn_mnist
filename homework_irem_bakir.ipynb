{
 "cells": [
  {
   "cell_type": "code",
   "execution_count": 1,
   "metadata": {
    "id": "SeBL9ESZWhSa"
   },
   "outputs": [],
   "source": [
    "#author irem bakır \n",
    "#21732881\n",
    "import torch\n",
    "import torch.nn as nn\n",
    "from pylab import rcParams\n",
    "from matplotlib import rc\n",
    "import os\n",
    "import datetime\n",
    "from numpy import concatenate\n",
    "import seaborn as sns\n",
    "from sklearn.preprocessing import MinMaxScaler\n",
    "from math import sqrt\n",
    "from sklearn.metrics import mean_squared_error\n",
    "from sklearn.model_selection import train_test_split\n",
    "from pandas.plotting import register_matplotlib_converters\n",
    "\n",
    "from bs4 import BeautifulSoup as bs\n",
    "import requests\n",
    "import numpy as np\n",
    "import pandas as pd\n",
    "import matplotlib.pyplot as plt\n",
    "%matplotlib inline\n",
    "\n",
    "register_matplotlib_converters()\n",
    "sns.set(style='whitegrid', palette='muted', font_scale=1.5)\n",
    "rcParams['figure.figsize'] = 22, 10"
   ]
  },
  {
   "cell_type": "code",
   "execution_count": 2,
   "metadata": {
    "colab": {
     "base_uri": "https://localhost:8080/"
    },
    "id": "F9TgEI2kyEpH",
    "outputId": "7706b684-8dbe-4000-86ff-4e3022f997fb"
   },
   "outputs": [
    {
     "data": {
      "text/plain": [
       "True"
      ]
     },
     "execution_count": 2,
     "metadata": {},
     "output_type": "execute_result"
    }
   ],
   "source": [
    "torch.cuda.is_available()"
   ]
  },
  {
   "cell_type": "code",
   "execution_count": 3,
   "metadata": {
    "colab": {
     "base_uri": "https://localhost:8080/"
    },
    "id": "3VM9Cp0WyHSk",
    "outputId": "53124dea-91e0-40cb-e29e-c216c7b1b381"
   },
   "outputs": [
    {
     "data": {
      "text/plain": [
       "0"
      ]
     },
     "execution_count": 3,
     "metadata": {},
     "output_type": "execute_result"
    }
   ],
   "source": [
    "torch.cuda.current_device()"
   ]
  },
  {
   "cell_type": "code",
   "execution_count": 4,
   "metadata": {
    "colab": {
     "base_uri": "https://localhost:8080/",
     "height": 36
    },
    "id": "YPvPP5vSyI9b",
    "outputId": "12b20b8c-8e1c-4b4d-b6e7-61b66a7af730"
   },
   "outputs": [
    {
     "data": {
      "application/vnd.google.colaboratory.intrinsic+json": {
       "type": "string"
      },
      "text/plain": [
       "'Tesla T4'"
      ]
     },
     "execution_count": 4,
     "metadata": {},
     "output_type": "execute_result"
    }
   ],
   "source": [
    "torch.cuda.get_device_name(0)"
   ]
  },
  {
   "cell_type": "code",
   "execution_count": 5,
   "metadata": {
    "colab": {
     "base_uri": "https://localhost:8080/"
    },
    "id": "dycQLsL0yr8Y",
    "outputId": "31b4de72-8b84-4fbd-9712-d93614435f0c"
   },
   "outputs": [
    {
     "data": {
      "text/plain": [
       "0"
      ]
     },
     "execution_count": 5,
     "metadata": {},
     "output_type": "execute_result"
    }
   ],
   "source": [
    "torch.cuda.memory_allocated()"
   ]
  },
  {
   "cell_type": "code",
   "execution_count": 6,
   "metadata": {
    "colab": {
     "base_uri": "https://localhost:8080/"
    },
    "id": "Igy27Ja3yt68",
    "outputId": "9f12f817-cab8-4610-a4b0-f86eac6a9570"
   },
   "outputs": [
    {
     "data": {
      "text/plain": [
       "0"
      ]
     },
     "execution_count": 6,
     "metadata": {},
     "output_type": "execute_result"
    }
   ],
   "source": [
    "torch.cuda.memory_reserved()"
   ]
  },
  {
   "cell_type": "code",
   "execution_count": 7,
   "metadata": {
    "colab": {
     "base_uri": "https://localhost:8080/",
     "height": 110
    },
    "id": "FFxSyCK4jBFl",
    "outputId": "48dc5740-b0b6-4942-8df9-6b583f5d726d"
   },
   "outputs": [
    {
     "data": {
      "application/vnd.google.colaboratory.intrinsic+json": {
       "type": "string"
      },
      "text/plain": [
       "'\\npage = 2011\\n\\ndef get_url(page):\\n  arr_url =[]\\n  array_of_year = []\\n  for i in range(0,10):\\n    url = f\"https://data.cosmic.ucar.edu/suominet/postProcess/global/y{page}/\"\\n    array_of_url.append(url)\\n    array_of_year.append(page)\\n    page +=1\\n\\n  return array_of_url, array_of_year\\n\\ndef get_index(id):\\n    array_of_u = get_url(page)[0]\\n    array_of_y = get_url(page)[1]\\n    array= []\\n    for i in range(len(array_of_u)):\\n      for j in range(1,366):\\n        url = array_of_u[i]\\n        if j < 10:\\n          url_id = f\"{url}/{id}_{array_of_y[i]}.00{j}.00.PWV\"\\n        elif 10 <= j < 100 :\\n            url_id = f\"{url}/{id}_{array_of_y[i]}.0{j}.00.PWV\"\\n        else :\\n          url_id = f\"{url}/{id}_{array_of_y[i]}.{j}.00.PWV\"\\n        array.append(url_id)\\n\\n    return array\\n\\n'"
      ]
     },
     "execution_count": 7,
     "metadata": {},
     "output_type": "execute_result"
    }
   ],
   "source": [
    "'''\n",
    "page = 2011\n",
    "\n",
    "def get_url(page):\n",
    "  arr_url =[]\n",
    "  arr_year = []\n",
    "  for i in range(0,10):\n",
    "    url = f\"https://data.cosmic.ucar.edu/suominet/postProcess/global/y{page}/\"\n",
    "    arr_url.append(url)\n",
    "    arr_year.append(page)\n",
    "    page +=1\n",
    "\n",
    "  return arr_url, arr_year\n",
    "\n",
    "def get_index(id):\n",
    "    array_of_u = get_url(page)[0]\n",
    "    array_of_y = get_url(page)[1]\n",
    "    array= []\n",
    "    for i in range(len(array_of_u)):\n",
    "      for j in range(1,366):\n",
    "        url = array_of_u[i]\n",
    "        if j < 10:\n",
    "          url_id = f\"{url}/{id}_{array_of_y[i]}.00{j}.00.PWV\"\n",
    "        elif 10 <= j < 100 :\n",
    "            url_id = f\"{url}/{id}_{array_of_y[i]}.0{j}.00.PWV\"\n",
    "        else :\n",
    "          url_id = f\"{url}/{id}_{array_of_y[i]}.{j}.00.PWV\"\n",
    "        array.append(url_id)\n",
    "\n",
    "    return array\n",
    "\n",
    "'''\n"
   ]
  },
  {
   "cell_type": "code",
   "execution_count": 76,
   "metadata": {
    "colab": {
     "base_uri": "https://localhost:8080/",
     "height": 91
    },
    "id": "L8cFghAY0x6_",
    "outputId": "1c4e4ddf-3343-4128-c23e-f9ccd3992151"
   },
   "outputs": [
    {
     "data": {
      "application/vnd.google.colaboratory.intrinsic+json": {
       "type": "string"
      },
      "text/plain": [
       "'\\n#def get_attributes():\\n\\n\\npath = get_index(\"GSUd\")\\nf_name = \"ankr_tdelay.csv\"\\ndf2 = pd.DataFrame()\\nd = {\\'PWVmidTim\\': [], \\'Tdelay\\': []}\\ndf2= pd.DataFrame(data=d)\\n\\nfor i in range(len(path)):\\n    col_names = [\\'Site\\', \"PWVmidTim\", \"Tdelay\"]\\n    df = pd.read_csv(path[i], delimiter=\\'\\\\s+\\',skipinitialspace=True, usecols=col_names, parse_dates = True)\\n    df = df.loc[df[\\'Site\\'] == \"ANKR\"]\\n    df.drop([\\'Site\\'], axis=1, inplace=True)\\n    df2 = df2.append(df)\\n  \\ndf2.to_csv(file_name, encoding=\\'utf-8\\',header=True,index=False)\\n\\n\\n'"
      ]
     },
     "execution_count": 76,
     "metadata": {},
     "output_type": "execute_result"
    }
   ],
   "source": [
    "'''\n",
    "path = get_index(\"GSUd\")\n",
    "f_name = \"ankr_tdelay.csv\"\n",
    "df2 = pd.DataFrame()\n",
    "d = {'PWVmidTim': [], 'Tdelay': []}\n",
    "df2= pd.DataFrame(data=d)\n",
    "\n",
    "for i in range(len(path)):\n",
    "    col_names = ['Site', \"PWVmidTim\", \"Tdelay\"]\n",
    "    df = pd.read_csv(path[i], delimiter='\\s+',skipinitialspace=True, usecols=col_names, parse_dates = True)\n",
    "    df = df.loc[df['Site'] == \"ANKR\"]\n",
    "    df.drop(['Site'], axis=1, inplace=True)\n",
    "    df2 = df2.append(df)\n",
    "  \n",
    "df2.to_csv(file_name, encoding='utf-8',header=True,index=False)\n",
    "'''"
   ]
  },
  {
   "cell_type": "code",
   "execution_count": 8,
   "metadata": {
    "colab": {
     "base_uri": "https://localhost:8080/",
     "height": 454
    },
    "id": "-Szv2Kbrdai9",
    "outputId": "e66c59f5-e68f-445f-a243-bb638ad0e726"
   },
   "outputs": [
    {
     "data": {
      "text/html": [
       "\n",
       "  <div id=\"df-62705067-6189-46b2-bb56-f5a466a6279a\">\n",
       "    <div class=\"colab-df-container\">\n",
       "      <div>\n",
       "<style scoped>\n",
       "    .dataframe tbody tr th:only-of-type {\n",
       "        vertical-align: middle;\n",
       "    }\n",
       "\n",
       "    .dataframe tbody tr th {\n",
       "        vertical-align: top;\n",
       "    }\n",
       "\n",
       "    .dataframe thead th {\n",
       "        text-align: right;\n",
       "    }\n",
       "</style>\n",
       "<table border=\"1\" class=\"dataframe\">\n",
       "  <thead>\n",
       "    <tr style=\"text-align: right;\">\n",
       "      <th></th>\n",
       "      <th>Tdelay</th>\n",
       "    </tr>\n",
       "    <tr>\n",
       "      <th>PWVmidTim</th>\n",
       "      <th></th>\n",
       "    </tr>\n",
       "  </thead>\n",
       "  <tbody>\n",
       "    <tr>\n",
       "      <th>2011-01-01 00:15:00</th>\n",
       "      <td>2101.0</td>\n",
       "    </tr>\n",
       "    <tr>\n",
       "      <th>2011-01-01 00:45:00</th>\n",
       "      <td>2100.3</td>\n",
       "    </tr>\n",
       "    <tr>\n",
       "      <th>2011-01-01 01:15:00</th>\n",
       "      <td>2105.5</td>\n",
       "    </tr>\n",
       "    <tr>\n",
       "      <th>2011-01-01 01:45:00</th>\n",
       "      <td>2106.2</td>\n",
       "    </tr>\n",
       "    <tr>\n",
       "      <th>2011-01-01 02:15:00</th>\n",
       "      <td>2104.4</td>\n",
       "    </tr>\n",
       "    <tr>\n",
       "      <th>...</th>\n",
       "      <td>...</td>\n",
       "    </tr>\n",
       "    <tr>\n",
       "      <th>2020-12-31 21:45:00</th>\n",
       "      <td>2102.0</td>\n",
       "    </tr>\n",
       "    <tr>\n",
       "      <th>2020-12-31 22:15:00</th>\n",
       "      <td>2110.2</td>\n",
       "    </tr>\n",
       "    <tr>\n",
       "      <th>2020-12-31 22:45:00</th>\n",
       "      <td>2116.2</td>\n",
       "    </tr>\n",
       "    <tr>\n",
       "      <th>2020-12-31 23:15:00</th>\n",
       "      <td>2116.5</td>\n",
       "    </tr>\n",
       "    <tr>\n",
       "      <th>2020-12-31 23:45:00</th>\n",
       "      <td>2114.9</td>\n",
       "    </tr>\n",
       "  </tbody>\n",
       "</table>\n",
       "<p>148359 rows × 1 columns</p>\n",
       "</div>\n",
       "      <button class=\"colab-df-convert\" onclick=\"convertToInteractive('df-62705067-6189-46b2-bb56-f5a466a6279a')\"\n",
       "              title=\"Convert this dataframe to an interactive table.\"\n",
       "              style=\"display:none;\">\n",
       "        \n",
       "  <svg xmlns=\"http://www.w3.org/2000/svg\" height=\"24px\"viewBox=\"0 0 24 24\"\n",
       "       width=\"24px\">\n",
       "    <path d=\"M0 0h24v24H0V0z\" fill=\"none\"/>\n",
       "    <path d=\"M18.56 5.44l.94 2.06.94-2.06 2.06-.94-2.06-.94-.94-2.06-.94 2.06-2.06.94zm-11 1L8.5 8.5l.94-2.06 2.06-.94-2.06-.94L8.5 2.5l-.94 2.06-2.06.94zm10 10l.94 2.06.94-2.06 2.06-.94-2.06-.94-.94-2.06-.94 2.06-2.06.94z\"/><path d=\"M17.41 7.96l-1.37-1.37c-.4-.4-.92-.59-1.43-.59-.52 0-1.04.2-1.43.59L10.3 9.45l-7.72 7.72c-.78.78-.78 2.05 0 2.83L4 21.41c.39.39.9.59 1.41.59.51 0 1.02-.2 1.41-.59l7.78-7.78 2.81-2.81c.8-.78.8-2.07 0-2.86zM5.41 20L4 18.59l7.72-7.72 1.47 1.35L5.41 20z\"/>\n",
       "  </svg>\n",
       "      </button>\n",
       "      \n",
       "  <style>\n",
       "    .colab-df-container {\n",
       "      display:flex;\n",
       "      flex-wrap:wrap;\n",
       "      gap: 12px;\n",
       "    }\n",
       "\n",
       "    .colab-df-convert {\n",
       "      background-color: #E8F0FE;\n",
       "      border: none;\n",
       "      border-radius: 50%;\n",
       "      cursor: pointer;\n",
       "      display: none;\n",
       "      fill: #1967D2;\n",
       "      height: 32px;\n",
       "      padding: 0 0 0 0;\n",
       "      width: 32px;\n",
       "    }\n",
       "\n",
       "    .colab-df-convert:hover {\n",
       "      background-color: #E2EBFA;\n",
       "      box-shadow: 0px 1px 2px rgba(60, 64, 67, 0.3), 0px 1px 3px 1px rgba(60, 64, 67, 0.15);\n",
       "      fill: #174EA6;\n",
       "    }\n",
       "\n",
       "    [theme=dark] .colab-df-convert {\n",
       "      background-color: #3B4455;\n",
       "      fill: #D2E3FC;\n",
       "    }\n",
       "\n",
       "    [theme=dark] .colab-df-convert:hover {\n",
       "      background-color: #434B5C;\n",
       "      box-shadow: 0px 1px 3px 1px rgba(0, 0, 0, 0.15);\n",
       "      filter: drop-shadow(0px 1px 2px rgba(0, 0, 0, 0.3));\n",
       "      fill: #FFFFFF;\n",
       "    }\n",
       "  </style>\n",
       "\n",
       "      <script>\n",
       "        const buttonEl =\n",
       "          document.querySelector('#df-62705067-6189-46b2-bb56-f5a466a6279a button.colab-df-convert');\n",
       "        buttonEl.style.display =\n",
       "          google.colab.kernel.accessAllowed ? 'block' : 'none';\n",
       "\n",
       "        async function convertToInteractive(key) {\n",
       "          const element = document.querySelector('#df-62705067-6189-46b2-bb56-f5a466a6279a');\n",
       "          const dataTable =\n",
       "            await google.colab.kernel.invokeFunction('convertToInteractive',\n",
       "                                                     [key], {});\n",
       "          if (!dataTable) return;\n",
       "\n",
       "          const docLinkHtml = 'Like what you see? Visit the ' +\n",
       "            '<a target=\"_blank\" href=https://colab.research.google.com/notebooks/data_table.ipynb>data table notebook</a>'\n",
       "            + ' to learn more about interactive tables.';\n",
       "          element.innerHTML = '';\n",
       "          dataTable['output_type'] = 'display_data';\n",
       "          await google.colab.output.renderOutput(dataTable, element);\n",
       "          const docLink = document.createElement('div');\n",
       "          docLink.innerHTML = docLinkHtml;\n",
       "          element.appendChild(docLink);\n",
       "        }\n",
       "      </script>\n",
       "    </div>\n",
       "  </div>\n",
       "  "
      ],
      "text/plain": [
       "                     Tdelay\n",
       "PWVmidTim                  \n",
       "2011-01-01 00:15:00  2101.0\n",
       "2011-01-01 00:45:00  2100.3\n",
       "2011-01-01 01:15:00  2105.5\n",
       "2011-01-01 01:45:00  2106.2\n",
       "2011-01-01 02:15:00  2104.4\n",
       "...                     ...\n",
       "2020-12-31 21:45:00  2102.0\n",
       "2020-12-31 22:15:00  2110.2\n",
       "2020-12-31 22:45:00  2116.2\n",
       "2020-12-31 23:15:00  2116.5\n",
       "2020-12-31 23:45:00  2114.9\n",
       "\n",
       "[148359 rows x 1 columns]"
      ]
     },
     "execution_count": 8,
     "metadata": {},
     "output_type": "execute_result"
    }
   ],
   "source": [
    "path=\"https://raw.githubusercontent.com/ireemiinii/muh_ozel_konular/main/ankr_tdelay.csv\"\n",
    "df = pd.read_csv(path, sep=\",\", index_col=\"PWVmidTim\", parse_dates = True)\n",
    "df=df.filter([\"PWVmidTim\",\"Tdelay\"])\n",
    "df"
   ]
  },
  {
   "cell_type": "code",
   "execution_count": 9,
   "metadata": {
    "colab": {
     "base_uri": "https://localhost:8080/",
     "height": 313
    },
    "id": "q5koYi5Keh2o",
    "outputId": "64162d51-acbb-4504-b44c-bc481375e113"
   },
   "outputs": [
    {
     "data": {
      "text/plain": [
       "<matplotlib.axes._subplots.AxesSubplot at 0x7f79b7c86ed0>"
      ]
     },
     "execution_count": 9,
     "metadata": {},
     "output_type": "execute_result"
    },
    {
     "data": {
      "image/png": "[encoded data removed]",
      "text/plain": [
       "<Figure size 432x288 with 1 Axes>"
      ]
     },
     "metadata": {
      "needs_background": "light"
     },
     "output_type": "display_data"
    }
   ],
   "source": [
    "df.plot()"
   ]
  },
  {
   "cell_type": "code",
   "execution_count": 11,
   "metadata": {
    "colab": {
     "base_uri": "https://localhost:8080/",
     "height": 313
    },
    "id": "k53o9ckNemaU",
    "outputId": "cf6f4eb2-0160-42bd-8a67-8a5fca6b0002"
   },
   "outputs": [
    {
     "data": {
      "text/plain": [
       "<matplotlib.axes._subplots.AxesSubplot at 0x7f789ca29110>"
      ]
     },
     "execution_count": 11,
     "metadata": {},
     "output_type": "execute_result"
    },
    {
     "data": {
      "image/png": "[encoded data removed]",
      "text/plain": [
       "<Figure size 432x288 with 1 Axes>"
      ]
     },
     "metadata": {
      "needs_background": "light"
     },
     "output_type": "display_data"
    }
   ],
   "source": [
    "df = df[df.Tdelay > 2000]\n",
    "df = df[df.Tdelay < 2300] \n",
    "df.plot()"
   ]
  },
  {
   "cell_type": "code",
   "execution_count": 12,
   "metadata": {
    "colab": {
     "base_uri": "https://localhost:8080/",
     "height": 454
    },
    "id": "MOZN6l88Pt9S",
    "outputId": "2f543b91-1c25-4b9f-85ea-abee27ad1184"
   },
   "outputs": [
    {
     "data": {
      "text/html": [
       "\n",
       "  <div id=\"df-ad97a204-3ab7-4ec0-b890-f1a75841bdf0\">\n",
       "    <div class=\"colab-df-container\">\n",
       "      <div>\n",
       "<style scoped>\n",
       "    .dataframe tbody tr th:only-of-type {\n",
       "        vertical-align: middle;\n",
       "    }\n",
       "\n",
       "    .dataframe tbody tr th {\n",
       "        vertical-align: top;\n",
       "    }\n",
       "\n",
       "    .dataframe thead th {\n",
       "        text-align: right;\n",
       "    }\n",
       "</style>\n",
       "<table border=\"1\" class=\"dataframe\">\n",
       "  <thead>\n",
       "    <tr style=\"text-align: right;\">\n",
       "      <th></th>\n",
       "      <th>Tdelay</th>\n",
       "    </tr>\n",
       "    <tr>\n",
       "      <th>PWVmidTim</th>\n",
       "      <th></th>\n",
       "    </tr>\n",
       "  </thead>\n",
       "  <tbody>\n",
       "    <tr>\n",
       "      <th>2011-01-02</th>\n",
       "      <td>2107.600000</td>\n",
       "    </tr>\n",
       "    <tr>\n",
       "      <th>2011-01-09</th>\n",
       "      <td>2136.797872</td>\n",
       "    </tr>\n",
       "    <tr>\n",
       "      <th>2011-01-16</th>\n",
       "      <td>2129.640854</td>\n",
       "    </tr>\n",
       "    <tr>\n",
       "      <th>2011-01-23</th>\n",
       "      <td>2129.366055</td>\n",
       "    </tr>\n",
       "    <tr>\n",
       "      <th>2011-01-30</th>\n",
       "      <td>2113.210638</td>\n",
       "    </tr>\n",
       "    <tr>\n",
       "      <th>...</th>\n",
       "      <td>...</td>\n",
       "    </tr>\n",
       "    <tr>\n",
       "      <th>2020-12-06</th>\n",
       "      <td>2112.494208</td>\n",
       "    </tr>\n",
       "    <tr>\n",
       "      <th>2020-12-13</th>\n",
       "      <td>2131.796875</td>\n",
       "    </tr>\n",
       "    <tr>\n",
       "      <th>2020-12-20</th>\n",
       "      <td>2131.497500</td>\n",
       "    </tr>\n",
       "    <tr>\n",
       "      <th>2020-12-27</th>\n",
       "      <td>2120.875172</td>\n",
       "    </tr>\n",
       "    <tr>\n",
       "      <th>2021-01-03</th>\n",
       "      <td>2117.656250</td>\n",
       "    </tr>\n",
       "  </tbody>\n",
       "</table>\n",
       "<p>523 rows × 1 columns</p>\n",
       "</div>\n",
       "      <button class=\"colab-df-convert\" onclick=\"convertToInteractive('df-ad97a204-3ab7-4ec0-b890-f1a75841bdf0')\"\n",
       "              title=\"Convert this dataframe to an interactive table.\"\n",
       "              style=\"display:none;\">\n",
       "        \n",
       "  <svg xmlns=\"http://www.w3.org/2000/svg\" height=\"24px\"viewBox=\"0 0 24 24\"\n",
       "       width=\"24px\">\n",
       "    <path d=\"M0 0h24v24H0V0z\" fill=\"none\"/>\n",
       "    <path d=\"M18.56 5.44l.94 2.06.94-2.06 2.06-.94-2.06-.94-.94-2.06-.94 2.06-2.06.94zm-11 1L8.5 8.5l.94-2.06 2.06-.94-2.06-.94L8.5 2.5l-.94 2.06-2.06.94zm10 10l.94 2.06.94-2.06 2.06-.94-2.06-.94-.94-2.06-.94 2.06-2.06.94z\"/><path d=\"M17.41 7.96l-1.37-1.37c-.4-.4-.92-.59-1.43-.59-.52 0-1.04.2-1.43.59L10.3 9.45l-7.72 7.72c-.78.78-.78 2.05 0 2.83L4 21.41c.39.39.9.59 1.41.59.51 0 1.02-.2 1.41-.59l7.78-7.78 2.81-2.81c.8-.78.8-2.07 0-2.86zM5.41 20L4 18.59l7.72-7.72 1.47 1.35L5.41 20z\"/>\n",
       "  </svg>\n",
       "      </button>\n",
       "      \n",
       "  <style>\n",
       "    .colab-df-container {\n",
       "      display:flex;\n",
       "      flex-wrap:wrap;\n",
       "      gap: 12px;\n",
       "    }\n",
       "\n",
       "    .colab-df-convert {\n",
       "      background-color: #E8F0FE;\n",
       "      border: none;\n",
       "      border-radius: 50%;\n",
       "      cursor: pointer;\n",
       "      display: none;\n",
       "      fill: #1967D2;\n",
       "      height: 32px;\n",
       "      padding: 0 0 0 0;\n",
       "      width: 32px;\n",
       "    }\n",
       "\n",
       "    .colab-df-convert:hover {\n",
       "      background-color: #E2EBFA;\n",
       "      box-shadow: 0px 1px 2px rgba(60, 64, 67, 0.3), 0px 1px 3px 1px rgba(60, 64, 67, 0.15);\n",
       "      fill: #174EA6;\n",
       "    }\n",
       "\n",
       "    [theme=dark] .colab-df-convert {\n",
       "      background-color: #3B4455;\n",
       "      fill: #D2E3FC;\n",
       "    }\n",
       "\n",
       "    [theme=dark] .colab-df-convert:hover {\n",
       "      background-color: #434B5C;\n",
       "      box-shadow: 0px 1px 3px 1px rgba(0, 0, 0, 0.15);\n",
       "      filter: drop-shadow(0px 1px 2px rgba(0, 0, 0, 0.3));\n",
       "      fill: #FFFFFF;\n",
       "    }\n",
       "  </style>\n",
       "\n",
       "      <script>\n",
       "        const buttonEl =\n",
       "          document.querySelector('#df-ad97a204-3ab7-4ec0-b890-f1a75841bdf0 button.colab-df-convert');\n",
       "        buttonEl.style.display =\n",
       "          google.colab.kernel.accessAllowed ? 'block' : 'none';\n",
       "\n",
       "        async function convertToInteractive(key) {\n",
       "          const element = document.querySelector('#df-ad97a204-3ab7-4ec0-b890-f1a75841bdf0');\n",
       "          const dataTable =\n",
       "            await google.colab.kernel.invokeFunction('convertToInteractive',\n",
       "                                                     [key], {});\n",
       "          if (!dataTable) return;\n",
       "\n",
       "          const docLinkHtml = 'Like what you see? Visit the ' +\n",
       "            '<a target=\"_blank\" href=https://colab.research.google.com/notebooks/data_table.ipynb>data table notebook</a>'\n",
       "            + ' to learn more about interactive tables.';\n",
       "          element.innerHTML = '';\n",
       "          dataTable['output_type'] = 'display_data';\n",
       "          await google.colab.output.renderOutput(dataTable, element);\n",
       "          const docLink = document.createElement('div');\n",
       "          docLink.innerHTML = docLinkHtml;\n",
       "          element.appendChild(docLink);\n",
       "        }\n",
       "      </script>\n",
       "    </div>\n",
       "  </div>\n",
       "  "
      ],
      "text/plain": [
       "                 Tdelay\n",
       "PWVmidTim              \n",
       "2011-01-02  2107.600000\n",
       "2011-01-09  2136.797872\n",
       "2011-01-16  2129.640854\n",
       "2011-01-23  2129.366055\n",
       "2011-01-30  2113.210638\n",
       "...                 ...\n",
       "2020-12-06  2112.494208\n",
       "2020-12-13  2131.796875\n",
       "2020-12-20  2131.497500\n",
       "2020-12-27  2120.875172\n",
       "2021-01-03  2117.656250\n",
       "\n",
       "[523 rows x 1 columns]"
      ]
     },
     "execution_count": 12,
     "metadata": {},
     "output_type": "execute_result"
    }
   ],
   "source": [
    "df = df.resample('W').mean()\n",
    "df"
   ]
  },
  {
   "cell_type": "code",
   "execution_count": 13,
   "metadata": {
    "colab": {
     "base_uri": "https://localhost:8080/"
    },
    "id": "7bqOVN6SgAgD",
    "outputId": "2222bea9-16a4-4b20-ffec-aca4506ffa1a"
   },
   "outputs": [
    {
     "data": {
      "text/plain": [
       "16"
      ]
     },
     "execution_count": 13,
     "metadata": {},
     "output_type": "execute_result"
    }
   ],
   "source": [
    "df[\"Tdelay\"].isnull().sum()"
   ]
  },
  {
   "cell_type": "code",
   "execution_count": 14,
   "metadata": {
    "id": "iwbl8aNlgAg4"
   },
   "outputs": [],
   "source": [
    "df = df.fillna(df.mean())\n"
   ]
  },
  {
   "cell_type": "code",
   "execution_count": 15,
   "metadata": {
    "colab": {
     "base_uri": "https://localhost:8080/"
    },
    "id": "O5oChfxqgTdn",
    "outputId": "1630acbb-20ad-4f4f-ac9f-da2c64b7d44d"
   },
   "outputs": [
    {
     "data": {
      "text/plain": [
       "0"
      ]
     },
     "execution_count": 15,
     "metadata": {},
     "output_type": "execute_result"
    }
   ],
   "source": [
    "df[\"Tdelay\"].isnull().sum()"
   ]
  },
  {
   "cell_type": "code",
   "execution_count": 16,
   "metadata": {
    "colab": {
     "base_uri": "https://localhost:8080/",
     "height": 368
    },
    "id": "2JpHoNM7gVYy",
    "outputId": "9a6bb56c-a630-46f5-aee8-a92e9b475283"
   },
   "outputs": [
    {
     "name": "stderr",
     "output_type": "stream",
     "text": [
      "/usr/local/lib/python3.7/dist-packages/statsmodels/tools/_testing.py:19: FutureWarning: pandas.util.testing is deprecated. Use the functions in the public API at pandas.testing instead.\n",
      "  import pandas.util.testing as tm\n"
     ]
    },
    {
     "data": {
      "image/png": "[encoded data removed]",
      "text/plain": [
       "<Figure size 432x288 with 4 Axes>"
      ]
     },
     "metadata": {
      "needs_background": "light"
     },
     "output_type": "display_data"
    }
   ],
   "source": [
    "from statsmodels.tsa.seasonal import seasonal_decompose\n",
    "result = seasonal_decompose(df[\"Tdelay\"], model='additive')\n",
    "result.plot();"
   ]
  },
  {
   "cell_type": "code",
   "execution_count": 17,
   "metadata": {
    "colab": {
     "base_uri": "https://localhost:8080/"
    },
    "id": "wLRq5QQJgVeK",
    "outputId": "9391f6e7-7bcd-4950-a8fa-f8c8e5ad2362"
   },
   "outputs": [
    {
     "data": {
      "text/plain": [
       "523"
      ]
     },
     "execution_count": 17,
     "metadata": {},
     "output_type": "execute_result"
    }
   ],
   "source": [
    "len(df)"
   ]
  },
  {
   "cell_type": "code",
   "execution_count": 18,
   "metadata": {
    "colab": {
     "base_uri": "https://localhost:8080/"
    },
    "id": "F098LwjNgVjQ",
    "outputId": "47c7bee0-7a1e-4c74-a444-428a14c3f3c1"
   },
   "outputs": [
    {
     "name": "stdout",
     "output_type": "stream",
     "text": [
      "Train: 419\n",
      "Test:  104\n",
      "Train Shape: (419, 1)\n",
      "Test Shape:  (104, 1)\n"
     ]
    }
   ],
   "source": [
    "y = df['Tdelay'].values.astype(float)\n",
    "\n",
    "test_size = 52*2\n",
    "window_size = 52*4   # 4 years\n",
    "\n",
    "train_set = y[:-test_size]\n",
    "test_set = y[-test_size:]\n",
    "\n",
    "\n",
    "scaler = MinMaxScaler(feature_range=(-1, 1))\n",
    "train_set = scaler.fit_transform(train_set.reshape(-1,1))\n",
    "test_set = scaler.transform(test_set.reshape(-1,1))\n",
    "\n",
    "# Run the code below to check your results:\n",
    "print(f'Train: {len(train_set)}')\n",
    "print(f'Test:  {len(test_set)}')\n",
    "print(f'Train Shape: {train_set.shape}')\n",
    "print(f'Test Shape:  {test_set.shape}')"
   ]
  },
  {
   "cell_type": "code",
   "execution_count": 19,
   "metadata": {
    "colab": {
     "base_uri": "https://localhost:8080/"
    },
    "id": "7ZUgh7sNgVpC",
    "outputId": "77065033-dbeb-496f-b242-6bd850988a9c"
   },
   "outputs": [
    {
     "name": "stdout",
     "output_type": "stream",
     "text": [
      "First item, original: 2107.6\n",
      "First item, scaled:  [-0.83752031]\n"
     ]
    }
   ],
   "source": [
    "# Run the code below to check your results:\n",
    "print(f'First item, original: {y[0]}')\n",
    "print(f'First item, scaled:  {train_set[0]}')"
   ]
  },
  {
   "cell_type": "code",
   "execution_count": 20,
   "metadata": {
    "id": "GjC7QBdYQjEC"
   },
   "outputs": [],
   "source": [
    "train_norm = torch.FloatTensor(train_set).view(-1).cuda()\n",
    "\n",
    "def input_data(seq,ws):\n",
    "    out = []\n",
    "    L = len(seq)\n",
    "    for i in range(L-ws):\n",
    "        window = seq[i:i+ws]\n",
    "        label = seq[i+ws:i+ws+1]\n",
    "        out.append((window,label))\n",
    "    return out"
   ]
  },
  {
   "cell_type": "code",
   "execution_count": 21,
   "metadata": {
    "colab": {
     "base_uri": "https://localhost:8080/"
    },
    "id": "zOXcAkUKQjMN",
    "outputId": "be2f8be1-e74b-4395-eea0-a17408bb6077"
   },
   "outputs": [
    {
     "name": "stdout",
     "output_type": "stream",
     "text": [
      "Train_data: 211\n"
     ]
    }
   ],
   "source": [
    "train_data = input_data(train_norm, window_size)\n",
    "print(f'Train_data: {len(train_data)}')"
   ]
  },
  {
   "cell_type": "code",
   "execution_count": 23,
   "metadata": {
    "colab": {
     "base_uri": "https://localhost:8080/"
    },
    "id": "IRWYVnT5qgwl",
    "outputId": "8a97b14e-38dc-4cc2-8295-597b868c0534"
   },
   "outputs": [
    {
     "data": {
      "text/plain": [
       "LSTMnetwork(\n",
       "  (lstm): LSTM(1, 13)\n",
       "  (linear): Linear(in_features=13, out_features=1, bias=True)\n",
       ")"
      ]
     },
     "execution_count": 23,
     "metadata": {},
     "output_type": "execute_result"
    }
   ],
   "source": [
    "class LSTMnetwork(nn.Module):\n",
    "    def __init__(self,input_size=1,hidden_size=13,output_size=1):\n",
    "        super().__init__()\n",
    "        self.hidden_size = hidden_size\n",
    "        \n",
    "        # Add an LSTM layer:\n",
    "        self.lstm = nn.LSTM(input_size,hidden_size)\n",
    "        \n",
    "        # Add a fully-connected layer:\n",
    "        self.linear = nn.Linear(hidden_size,output_size)\n",
    "        \n",
    "        # Initialize h0 and c0:\n",
    "        self.hidden = (torch.zeros(1,1,self.hidden_size).cuda(),\n",
    "                       torch.zeros(1,1,self.hidden_size).cuda())\n",
    "\n",
    "    def forward(self,seq):\n",
    "        lstm_out, self.hidden = self.lstm(\n",
    "            seq.view(len(seq),1,-1), self.hidden)\n",
    "        pred = self.linear(lstm_out.view(len(seq),-1))\n",
    "        return pred[-1]\n",
    "    \n",
    "torch.manual_seed(101)\n",
    "model = LSTMnetwork().cuda()\n",
    "model"
   ]
  },
  {
   "cell_type": "code",
   "execution_count": 24,
   "metadata": {
    "colab": {
     "base_uri": "https://localhost:8080/"
    },
    "id": "lkTU1pwJzDrr",
    "outputId": "8750cde9-f62c-4d0f-ecc0-de7624fb183e"
   },
   "outputs": [
    {
     "data": {
      "text/plain": [
       "True"
      ]
     },
     "execution_count": 24,
     "metadata": {},
     "output_type": "execute_result"
    }
   ],
   "source": [
    "next(model.parameters()).is_cuda"
   ]
  },
  {
   "cell_type": "code",
   "execution_count": 25,
   "metadata": {
    "id": "sHydiHo6qjYW"
   },
   "outputs": [],
   "source": [
    "criterion = nn.MSELoss()\n",
    "optimizer = torch.optim.Adam(model.parameters(), lr=0.001)"
   ]
  },
  {
   "cell_type": "code",
   "execution_count": 26,
   "metadata": {
    "colab": {
     "base_uri": "https://localhost:8080/"
    },
    "id": "AK4OJbyJql5O",
    "outputId": "f49454eb-ae40-4736-bb49-b8fcc9ac8458"
   },
   "outputs": [
    {
     "name": "stdout",
     "output_type": "stream",
     "text": [
      "Epoch  5 Train Loss: 0.06521409004926682\n",
      "Epoch  10 Train Loss: 0.05612744390964508\n",
      "Epoch  15 Train Loss: 0.07098899036645889\n",
      "Epoch  20 Train Loss: 0.07685209065675735\n",
      "Epoch  25 Train Loss: 0.0802747905254364\n",
      "Epoch  30 Train Loss: 0.08251053094863892\n",
      "Epoch  35 Train Loss: 0.08586673438549042\n",
      "Epoch  40 Train Loss: 0.08910688012838364\n",
      "Epoch  45 Train Loss: 0.090055912733078\n"
     ]
    }
   ],
   "source": [
    "epochs = 50\n",
    "hist = np.zeros(epochs)\n",
    "\n",
    "\n",
    "for i in range(epochs):\n",
    "    for seq, y_train in train_data:\n",
    "        \n",
    "        # reset the parameters and hidden states\n",
    "        optimizer.zero_grad()\n",
    "        model.hidden = (torch.zeros(1,1,model.hidden_size).cuda(),\n",
    "                        torch.zeros(1,1,model.hidden_size).cuda())\n",
    "        \n",
    "        # apply the model\n",
    "        y_pred = model(seq)\n",
    "        \n",
    "        # update parameters\n",
    "        loss = criterion(y_pred, y_train)\n",
    "        hist[i]=loss.item()\n",
    "        loss.backward()\n",
    "        optimizer.step()\n",
    "\n",
    "    # OPTIONAL print statement\n",
    "    if i % 5 == 0 and i !=0:\n",
    "      print(\"Epoch \", i, \"Train Loss: {}\".format(loss.item()))"
   ]
  },
  {
   "cell_type": "code",
   "execution_count": 27,
   "metadata": {
    "colab": {
     "base_uri": "https://localhost:8080/",
     "height": 294
    },
    "id": "SM0aDrJDqn9c",
    "outputId": "93a82621-8971-4d81-8fad-e631d013fc8e"
   },
   "outputs": [
    {
     "data": {
      "text/plain": [
       "[<matplotlib.lines.Line2D at 0x7f78912d8110>]"
      ]
     },
     "execution_count": 27,
     "metadata": {},
     "output_type": "execute_result"
    },
    {
     "data": {
      "image/png": "[encoded data removed]",
      "text/plain": [
       "<Figure size 432x288 with 1 Axes>"
      ]
     },
     "metadata": {
      "needs_background": "light"
     },
     "output_type": "display_data"
    }
   ],
   "source": [
    "plt.plot(hist)"
   ]
  },
  {
   "cell_type": "code",
   "execution_count": 28,
   "metadata": {
    "colab": {
     "base_uri": "https://localhost:8080/"
    },
    "id": "an6eFeO3qp9I",
    "outputId": "0fe4ac14-3442-40fe-b32f-fba34c6b00a5"
   },
   "outputs": [
    {
     "data": {
      "text/plain": [
       "[-0.5173683762550354,\n",
       " -0.5108783841133118,\n",
       " -0.5011418461799622,\n",
       " -0.4961948096752167,\n",
       " -0.4950403571128845,\n",
       " -0.49725964665412903,\n",
       " -0.5025961399078369,\n",
       " -0.510826587677002,\n",
       " -0.5215284824371338,\n",
       " -0.5335466265678406,\n",
       " -0.5440618991851807,\n",
       " -0.5477350950241089,\n",
       " -0.5375295877456665,\n",
       " -0.5082356333732605,\n",
       " -0.45945918560028076,\n",
       " -0.39397555589675903,\n",
       " -0.3138467073440552,\n",
       " -0.21913380920886993,\n",
       " -0.11011049151420593,\n",
       " 0.008108898997306824,\n",
       " 0.11914736032485962,\n",
       " 0.1962740421295166,\n",
       " 0.2280483841896057,\n",
       " 0.2331077754497528,\n",
       " 0.2326609194278717,\n",
       " 0.23655790090560913,\n",
       " 0.2551768720149994,\n",
       " 0.3146466612815857,\n",
       " 0.4289146065711975,\n",
       " 0.4995519518852234,\n",
       " 0.441122829914093,\n",
       " 0.3144325911998749,\n",
       " 0.22703620791435242,\n",
       " 0.18545392155647278,\n",
       " 0.15898597240447998,\n",
       " 0.13405591249465942,\n",
       " 0.1054358184337616,\n",
       " 0.07002611458301544,\n",
       " 0.025838911533355713,\n",
       " -0.028132468461990356,\n",
       " -0.09177619218826294,\n",
       " -0.16335614025592804,\n",
       " -0.23882147669792175,\n",
       " -0.31192547082901,\n",
       " -0.37603986263275146,\n",
       " -0.4267544150352478,\n",
       " -0.4629961848258972,\n",
       " -0.4862118065357208,\n",
       " -0.4990110695362091,\n",
       " -0.5042028427124023,\n",
       " -0.5043371319770813,\n",
       " -0.501550555229187,\n",
       " -0.4975370466709137,\n",
       " -0.49356478452682495,\n",
       " -0.49052494764328003,\n",
       " -0.4890052080154419,\n",
       " -0.4893699288368225,\n",
       " -0.49184751510620117,\n",
       " -0.4965965747833252,\n",
       " -0.5037289261817932,\n",
       " -0.513232946395874,\n",
       " -0.5246872901916504,\n",
       " -0.5366145372390747,\n",
       " -0.5454877614974976,\n",
       " -0.5452240705490112,\n",
       " -0.528946578502655,\n",
       " -0.4929072856903076,\n",
       " -0.43814992904663086,\n",
       " -0.3675553798675537,\n",
       " -0.28245609998703003,\n",
       " -0.18262022733688354,\n",
       " -0.06938526034355164,\n",
       " 0.048930928111076355,\n",
       " 0.15114516019821167,\n",
       " 0.21196851134300232,\n",
       " 0.2314547896385193,\n",
       " 0.23287680745124817,\n",
       " 0.2331913411617279,\n",
       " 0.24059134721755981,\n",
       " 0.2697376608848572,\n",
       " 0.3511005640029907,\n",
       " 0.46646833419799805,\n",
       " 0.4932634234428406,\n",
       " 0.3971853256225586,\n",
       " 0.27630698680877686,\n",
       " 0.20888331532478333,\n",
       " 0.1753363311290741,\n",
       " 0.15028131008148193,\n",
       " 0.1244780421257019,\n",
       " 0.09372982382774353,\n",
       " 0.05537135899066925,\n",
       " 0.00776401162147522,\n",
       " -0.049733102321624756,\n",
       " -0.11650604009628296,\n",
       " -0.1900678277015686,\n",
       " -0.2654865086078644,\n",
       " -0.33608439564704895,\n",
       " -0.395760715007782,\n",
       " -0.4412822723388672,\n",
       " -0.47263309359550476,\n",
       " -0.4918155074119568,\n",
       " -0.5015915632247925,\n",
       " -0.5047101974487305,\n",
       " -0.5035825967788696]"
      ]
     },
     "execution_count": 28,
     "metadata": {},
     "output_type": "execute_result"
    }
   ],
   "source": [
    "future = 104\n",
    "preds = train_norm[-window_size:].tolist()\n",
    "\n",
    "model.eval()\n",
    "\n",
    "for i in range(future):\n",
    "    seq = torch.FloatTensor(preds[-window_size:]).cuda()\n",
    "    with torch.no_grad():\n",
    "        model.hidden = (torch.zeros(1,1,model.hidden_size).cuda(),\n",
    "                        torch.zeros(1,1,model.hidden_size).cuda())\n",
    "        preds.append(model(seq).item())\n",
    "        \n",
    "preds[window_size:]"
   ]
  },
  {
   "cell_type": "code",
   "execution_count": 29,
   "metadata": {
    "id": "irCTgambqsLP"
   },
   "outputs": [],
   "source": [
    "true_predictions = scaler.inverse_transform(np.array(preds[window_size:]).reshape(-1, 1))\n",
    "test_set = scaler.inverse_transform(np.array(test_set.reshape(-1, 1)))"
   ]
  },
  {
   "cell_type": "code",
   "execution_count": 30,
   "metadata": {
    "colab": {
     "base_uri": "https://localhost:8080/"
    },
    "id": "zZVZOojNqt2v",
    "outputId": "c4cfa70a-32fc-4509-a139-b53e29e45792"
   },
   "outputs": [
    {
     "name": "stderr",
     "output_type": "stream",
     "text": [
      "/usr/local/lib/python3.7/dist-packages/ipykernel_launcher.py:2: SettingWithCopyWarning: \n",
      "A value is trying to be set on a copy of a slice from a DataFrame.\n",
      "Try using .loc[row_indexer,col_indexer] = value instead\n",
      "\n",
      "See the caveats in the documentation: https://pandas.pydata.org/pandas-docs/stable/user_guide/indexing.html#returning-a-view-versus-a-copy\n",
      "  \n"
     ]
    }
   ],
   "source": [
    "test_data = df[-test_size:]\n",
    "test_data[\"Predictions\"] = true_predictions"
   ]
  },
  {
   "cell_type": "code",
   "execution_count": 31,
   "metadata": {
    "colab": {
     "base_uri": "https://localhost:8080/",
     "height": 237
    },
    "id": "4CNVROeJqvRS",
    "outputId": "b87dd7da-c5c1-4461-f896-0c0d0bccc261"
   },
   "outputs": [
    {
     "data": {
      "text/html": [
       "\n",
       "  <div id=\"df-6847c6e1-0921-4a65-be93-f95c248e52fa\">\n",
       "    <div class=\"colab-df-container\">\n",
       "      <div>\n",
       "<style scoped>\n",
       "    .dataframe tbody tr th:only-of-type {\n",
       "        vertical-align: middle;\n",
       "    }\n",
       "\n",
       "    .dataframe tbody tr th {\n",
       "        vertical-align: top;\n",
       "    }\n",
       "\n",
       "    .dataframe thead th {\n",
       "        text-align: right;\n",
       "    }\n",
       "</style>\n",
       "<table border=\"1\" class=\"dataframe\">\n",
       "  <thead>\n",
       "    <tr style=\"text-align: right;\">\n",
       "      <th></th>\n",
       "      <th>Tdelay</th>\n",
       "      <th>Predictions</th>\n",
       "    </tr>\n",
       "    <tr>\n",
       "      <th>PWVmidTim</th>\n",
       "      <th></th>\n",
       "      <th></th>\n",
       "    </tr>\n",
       "  </thead>\n",
       "  <tbody>\n",
       "    <tr>\n",
       "      <th>2019-01-13</th>\n",
       "      <td>2106.048710</td>\n",
       "      <td>2129.794985</td>\n",
       "    </tr>\n",
       "    <tr>\n",
       "      <th>2019-01-20</th>\n",
       "      <td>2112.447805</td>\n",
       "      <td>2130.244913</td>\n",
       "    </tr>\n",
       "    <tr>\n",
       "      <th>2019-01-27</th>\n",
       "      <td>2119.528274</td>\n",
       "      <td>2130.919912</td>\n",
       "    </tr>\n",
       "    <tr>\n",
       "      <th>2019-02-03</th>\n",
       "      <td>2114.386250</td>\n",
       "      <td>2131.262873</td>\n",
       "    </tr>\n",
       "    <tr>\n",
       "      <th>2019-02-10</th>\n",
       "      <td>2132.334524</td>\n",
       "      <td>2131.342907</td>\n",
       "    </tr>\n",
       "  </tbody>\n",
       "</table>\n",
       "</div>\n",
       "      <button class=\"colab-df-convert\" onclick=\"convertToInteractive('df-6847c6e1-0921-4a65-be93-f95c248e52fa')\"\n",
       "              title=\"Convert this dataframe to an interactive table.\"\n",
       "              style=\"display:none;\">\n",
       "        \n",
       "  <svg xmlns=\"http://www.w3.org/2000/svg\" height=\"24px\"viewBox=\"0 0 24 24\"\n",
       "       width=\"24px\">\n",
       "    <path d=\"M0 0h24v24H0V0z\" fill=\"none\"/>\n",
       "    <path d=\"M18.56 5.44l.94 2.06.94-2.06 2.06-.94-2.06-.94-.94-2.06-.94 2.06-2.06.94zm-11 1L8.5 8.5l.94-2.06 2.06-.94-2.06-.94L8.5 2.5l-.94 2.06-2.06.94zm10 10l.94 2.06.94-2.06 2.06-.94-2.06-.94-.94-2.06-.94 2.06-2.06.94z\"/><path d=\"M17.41 7.96l-1.37-1.37c-.4-.4-.92-.59-1.43-.59-.52 0-1.04.2-1.43.59L10.3 9.45l-7.72 7.72c-.78.78-.78 2.05 0 2.83L4 21.41c.39.39.9.59 1.41.59.51 0 1.02-.2 1.41-.59l7.78-7.78 2.81-2.81c.8-.78.8-2.07 0-2.86zM5.41 20L4 18.59l7.72-7.72 1.47 1.35L5.41 20z\"/>\n",
       "  </svg>\n",
       "      </button>\n",
       "      \n",
       "  <style>\n",
       "    .colab-df-container {\n",
       "      display:flex;\n",
       "      flex-wrap:wrap;\n",
       "      gap: 12px;\n",
       "    }\n",
       "\n",
       "    .colab-df-convert {\n",
       "      background-color: #E8F0FE;\n",
       "      border: none;\n",
       "      border-radius: 50%;\n",
       "      cursor: pointer;\n",
       "      display: none;\n",
       "      fill: #1967D2;\n",
       "      height: 32px;\n",
       "      padding: 0 0 0 0;\n",
       "      width: 32px;\n",
       "    }\n",
       "\n",
       "    .colab-df-convert:hover {\n",
       "      background-color: #E2EBFA;\n",
       "      box-shadow: 0px 1px 2px rgba(60, 64, 67, 0.3), 0px 1px 3px 1px rgba(60, 64, 67, 0.15);\n",
       "      fill: #174EA6;\n",
       "    }\n",
       "\n",
       "    [theme=dark] .colab-df-convert {\n",
       "      background-color: #3B4455;\n",
       "      fill: #D2E3FC;\n",
       "    }\n",
       "\n",
       "    [theme=dark] .colab-df-convert:hover {\n",
       "      background-color: #434B5C;\n",
       "      box-shadow: 0px 1px 3px 1px rgba(0, 0, 0, 0.15);\n",
       "      filter: drop-shadow(0px 1px 2px rgba(0, 0, 0, 0.3));\n",
       "      fill: #FFFFFF;\n",
       "    }\n",
       "  </style>\n",
       "\n",
       "      <script>\n",
       "        const buttonEl =\n",
       "          document.querySelector('#df-6847c6e1-0921-4a65-be93-f95c248e52fa button.colab-df-convert');\n",
       "        buttonEl.style.display =\n",
       "          google.colab.kernel.accessAllowed ? 'block' : 'none';\n",
       "\n",
       "        async function convertToInteractive(key) {\n",
       "          const element = document.querySelector('#df-6847c6e1-0921-4a65-be93-f95c248e52fa');\n",
       "          const dataTable =\n",
       "            await google.colab.kernel.invokeFunction('convertToInteractive',\n",
       "                                                     [key], {});\n",
       "          if (!dataTable) return;\n",
       "\n",
       "          const docLinkHtml = 'Like what you see? Visit the ' +\n",
       "            '<a target=\"_blank\" href=https://colab.research.google.com/notebooks/data_table.ipynb>data table notebook</a>'\n",
       "            + ' to learn more about interactive tables.';\n",
       "          element.innerHTML = '';\n",
       "          dataTable['output_type'] = 'display_data';\n",
       "          await google.colab.output.renderOutput(dataTable, element);\n",
       "          const docLink = document.createElement('div');\n",
       "          docLink.innerHTML = docLinkHtml;\n",
       "          element.appendChild(docLink);\n",
       "        }\n",
       "      </script>\n",
       "    </div>\n",
       "  </div>\n",
       "  "
      ],
      "text/plain": [
       "                 Tdelay  Predictions\n",
       "PWVmidTim                           \n",
       "2019-01-13  2106.048710  2129.794985\n",
       "2019-01-20  2112.447805  2130.244913\n",
       "2019-01-27  2119.528274  2130.919912\n",
       "2019-02-03  2114.386250  2131.262873\n",
       "2019-02-10  2132.334524  2131.342907"
      ]
     },
     "execution_count": 31,
     "metadata": {},
     "output_type": "execute_result"
    }
   ],
   "source": [
    "test_data.head()"
   ]
  },
  {
   "cell_type": "code",
   "execution_count": 32,
   "metadata": {
    "colab": {
     "base_uri": "https://localhost:8080/",
     "height": 337
    },
    "id": "UOFdVDy1qw4b",
    "outputId": "1662a3ea-18e6-48fb-8505-fe6f3189f265"
   },
   "outputs": [
    {
     "data": {
      "text/plain": [
       "<matplotlib.axes._subplots.AxesSubplot at 0x7f7891291890>"
      ]
     },
     "execution_count": 32,
     "metadata": {},
     "output_type": "execute_result"
    },
    {
     "data": {
      "image/png": "[encoded data removed]",
      "text/plain": [
       "<Figure size 432x288 with 1 Axes>"
      ]
     },
     "metadata": {
      "needs_background": "light"
     },
     "output_type": "display_data"
    }
   ],
   "source": [
    "test_data.plot()"
   ]
  },
  {
   "cell_type": "code",
   "execution_count": 33,
   "metadata": {
    "colab": {
     "base_uri": "https://localhost:8080/"
    },
    "id": "cj7dhaT_qy80",
    "outputId": "40a014ba-ffc7-4a1b-a7fb-2ad8fff6d8d9"
   },
   "outputs": [
    {
     "name": "stdout",
     "output_type": "stream",
     "text": [
      "MAE: 746.228\n",
      "RMSE: 27.317\n"
     ]
    }
   ],
   "source": [
    "mae = mean_squared_error(test_data['Tdelay'],test_data['Predictions'])\n",
    "rmse = np.sqrt(mean_squared_error(test_data['Tdelay'],test_data['Predictions']))\n",
    "  \n",
    "print('MAE: %.3f' % mae)\n",
    "print('RMSE: %.3f' % rmse)"
   ]
  },
  {
   "cell_type": "code",
   "execution_count": 34,
   "metadata": {
    "colab": {
     "base_uri": "https://localhost:8080/"
    },
    "id": "u1wWYMH6q0mo",
    "outputId": "543f1a24-a069-4575-b665-6e5663fbaaf9"
   },
   "outputs": [
    {
     "data": {
      "text/plain": [
       "Tdelay         2136.103673\n",
       "Predictions    2153.843704\n",
       "dtype: float64"
      ]
     },
     "execution_count": 34,
     "metadata": {},
     "output_type": "execute_result"
    }
   ],
   "source": [
    "test_data.mean()"
   ]
  }
 ],
 "metadata": {
  "accelerator": "GPU",
  "colab": {
   "collapsed_sections": [],
   "name": "christmas_homework.ipynb",
   "provenance": []
  },
  "kernelspec": {
   "display_name": "Python 3 (ipykernel)",
   "language": "python",
   "name": "python3"
  },
  "language_info": {
   "codemirror_mode": {
    "name": "ipython",
    "version": 3
   },
   "file_extension": ".py",
   "mimetype": "text/x-python",
   "name": "python",
   "nbconvert_exporter": "python",
   "pygments_lexer": "ipython3",
   "version": "3.9.7"
  }
 },
 "nbformat": 4,
 "nbformat_minor": 1
}
