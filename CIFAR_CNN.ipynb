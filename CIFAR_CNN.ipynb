{
 "cells": [
  {
   "cell_type": "markdown",
   "metadata": {
    "id": "7Vx_IH5uaLM8"
   },
   "source": [
    "# CIFAR Code Along with CNN\n",
    "The <a href='https://en.wikipedia.org/wiki/CIFAR-10'>CIFAR-10</a> dataset is similar to MNIST, except that instead of one color channel (grayscale) there are three channels (RGB).<br>\n",
    "Where an MNIST image has a size of (1,28,28), CIFAR images are (3,32,32). There are 10 categories an image may fall under:\n",
    "0. airplane\n",
    "1. automobile\n",
    "2. bird\n",
    "3. cat\n",
    "4. deer\n",
    "5. dog\n",
    "6. frog\n",
    "7. horse\n",
    "8. ship\n",
    "9. truck\n"
   ]
  },
  {
   "cell_type": "markdown",
   "metadata": {
    "id": "8iWlvljFaLM9"
   },
   "source": [
    "## Perform standard imports"
   ]
  },
  {
   "cell_type": "code",
   "execution_count": null,
   "metadata": {
    "executionInfo": {
     "elapsed": 4042,
     "status": "ok",
     "timestamp": 1639411326320,
     "user": {
      "displayName": "Engin Tunalı",
      "photoUrl": "https://lh3.googleusercontent.com/a/default-user=s64",
      "userId": "04365200986728431923"
     },
     "user_tz": -180
    },
    "id": "P850EF5FaLM9"
   },
   "outputs": [],
   "source": [
    "import torch\n",
    "import torch.nn as nn\n",
    "import torch.nn.functional as F\n",
    "from torch.utils.data import DataLoader\n",
    "from torchvision import datasets, transforms\n",
    "from torchvision.utils import make_grid\n",
    "\n",
    "import numpy as np\n",
    "import pandas as pd\n",
    "import seaborn as sn  # for heatmaps\n",
    "from sklearn.metrics import confusion_matrix\n",
    "import matplotlib.pyplot as plt\n",
    "%matplotlib inline"
   ]
  },
  {
   "cell_type": "markdown",
   "metadata": {
    "id": "Iv37Ai8haLM-"
   },
   "source": [
    "## Load the CIFAR-10 dataset\n",
    "PyTorch makes the CIFAR-10 train and test datasets available through <a href='https://pytorch.org/docs/stable/torchvision/index.html'><tt><strong>torchvision</strong></tt></a>. The first time they're called, the datasets will be downloaded onto your computer to the path specified. From that point, torchvision will always look for a local copy before attempting another download.<br>The set contains 50,000 train and 10,000 test images.\n",
    "\n",
    "Refer to the previous section for explanations of transformations, batch sizes and <a href='https://pytorch.org/docs/stable/data.html#torch.utils.data.DataLoader'><tt><strong>DataLoader</strong></tt></a>."
   ]
  },
  {
   "cell_type": "code",
   "execution_count": null,
   "metadata": {
    "colab": {
     "base_uri": "https://localhost:8080/"
    },
    "executionInfo": {
     "elapsed": 3340,
     "status": "ok",
     "timestamp": 1639411361806,
     "user": {
      "displayName": "Engin Tunalı",
      "photoUrl": "https://lh3.googleusercontent.com/a/default-user=s64",
      "userId": "04365200986728431923"
     },
     "user_tz": -180
    },
    "id": "UkpWMYVLaLM-",
    "outputId": "ce1000dd-5c1d-4016-f834-07cacbaa428b",
    "scrolled": true
   },
   "outputs": [],
   "source": [
    "transform = transforms.ToTensor()\n",
    "\n",
    "train_data = datasets.CIFAR10(root='Data', train=True, download=True, transform=transform)\n",
    "test_data = datasets.CIFAR10(root='Data', train=False, download=True, transform=transform)"
   ]
  },
  {
   "cell_type": "code",
   "execution_count": null,
   "metadata": {
    "colab": {
     "base_uri": "https://localhost:8080/"
    },
    "executionInfo": {
     "elapsed": 13,
     "status": "ok",
     "timestamp": 1639403092600,
     "user": {
      "displayName": "Engin Tunalı",
      "photoUrl": "https://lh3.googleusercontent.com/a/default-user=s64",
      "userId": "04365200986728431923"
     },
     "user_tz": -180
    },
    "id": "y5em1YFfaLM_",
    "outputId": "03713e0e-5e24-4604-e16b-4348da933529"
   },
   "outputs": [],
   "source": [
    "train_data"
   ]
  },
  {
   "cell_type": "code",
   "execution_count": null,
   "metadata": {
    "colab": {
     "base_uri": "https://localhost:8080/"
    },
    "executionInfo": {
     "elapsed": 269,
     "status": "ok",
     "timestamp": 1639403096691,
     "user": {
      "displayName": "Engin Tunalı",
      "photoUrl": "https://lh3.googleusercontent.com/a/default-user=s64",
      "userId": "04365200986728431923"
     },
     "user_tz": -180
    },
    "id": "J4NVTGQ4aLM_",
    "outputId": "7f7769f3-9d40-4e24-fd32-547050d65b4c"
   },
   "outputs": [],
   "source": [
    "test_data"
   ]
  },
  {
   "cell_type": "markdown",
   "metadata": {
    "id": "wSwEA95YaLNA"
   },
   "source": [
    "### Create loaders"
   ]
  },
  {
   "cell_type": "code",
   "execution_count": null,
   "metadata": {
    "executionInfo": {
     "elapsed": 329,
     "status": "ok",
     "timestamp": 1639403101768,
     "user": {
      "displayName": "Engin Tunalı",
      "photoUrl": "https://lh3.googleusercontent.com/a/default-user=s64",
      "userId": "04365200986728431923"
     },
     "user_tz": -180
    },
    "id": "UdlkENCkaLNA"
   },
   "outputs": [],
   "source": [
    "torch.manual_seed(101)  # for reproducible results\n",
    "\n",
    "train_loader = DataLoader(train_data, batch_size=10, shuffle=True)\n",
    "test_loader = DataLoader(test_data, batch_size=10, shuffle=False)"
   ]
  },
  {
   "cell_type": "markdown",
   "metadata": {
    "id": "4d2tML4_aLNB"
   },
   "source": [
    "### Define strings for labels\n",
    "We can call the labels whatever we want, so long as they appear in the order of 'airplane', 'automobile', 'bird', 'cat', 'deer', 'dog', 'frog', 'horse', 'ship', 'truck'. Here we're using 5-character labels padded with spaces so that our reports line up later."
   ]
  },
  {
   "cell_type": "code",
   "execution_count": null,
   "metadata": {
    "executionInfo": {
     "elapsed": 297,
     "status": "ok",
     "timestamp": 1639411389986,
     "user": {
      "displayName": "Engin Tunalı",
      "photoUrl": "https://lh3.googleusercontent.com/a/default-user=s64",
      "userId": "04365200986728431923"
     },
     "user_tz": -180
    },
    "id": "K5ZsosBDaLNB"
   },
   "outputs": [],
   "source": [
    "class_names = ['plane', '  car', ' bird', '  cat', ' deer', '  dog', ' frog', 'horse', ' ship', 'truck']"
   ]
  },
  {
   "cell_type": "markdown",
   "metadata": {
    "id": "FkM9Vj-BaLNB"
   },
   "source": [
    "We don't want to use the variable name \"class\" here, as it would overwrite Python's built-in keyword."
   ]
  },
  {
   "cell_type": "markdown",
   "metadata": {
    "id": "q5w48n7taLNB"
   },
   "source": [
    "## View a batch of images"
   ]
  },
  {
   "cell_type": "code",
   "execution_count": null,
   "metadata": {
    "colab": {
     "base_uri": "https://localhost:8080/",
     "height": 302
    },
    "executionInfo": {
     "elapsed": 1196,
     "status": "ok",
     "timestamp": 1639403135360,
     "user": {
      "displayName": "Engin Tunalı",
      "photoUrl": "https://lh3.googleusercontent.com/a/default-user=s64",
      "userId": "04365200986728431923"
     },
     "user_tz": -180
    },
    "id": "AtP9jnVFaLNB",
    "outputId": "f986dcad-d7d7-44a0-dc73-c331ee30a86f"
   },
   "outputs": [],
   "source": [
    "np.set_printoptions(formatter=dict(int=lambda x: f'{x:5}')) # to widen the printed array\n",
    "\n",
    "# Grab the first batch of 10 images\n",
    "for images,labels in train_loader: \n",
    "    break\n",
    "\n",
    "# Print the labels\n",
    "print('Label:', labels.numpy())\n",
    "print('Class: ', *np.array([class_names[i] for i in labels]))\n",
    "\n",
    "# Print the images\n",
    "im = make_grid(images, nrow=5)  # the default nrow is 8\n",
    "plt.figure(figsize=(10,4))\n",
    "plt.imshow(np.transpose(im.numpy(), (1, 2, 0)));"
   ]
  },
  {
   "cell_type": "markdown",
   "metadata": {
    "id": "HP86SMV8aLNC"
   },
   "source": [
    "## Define the model\n",
    "In the previous section we used two convolutional layers and two pooling layers before feeding data through a fully connected hidden layer to our output. The model follows CONV/RELU/POOL/CONV/RELU/POOL/FC/RELU/FC. We'll use the same format here.\n",
    "\n",
    "The only changes are:\n",
    "* take in 3-channel images instead of 1-channel\n",
    "* adjust the size of the fully connected input<br>\n",
    "\n",
    "Our first convolutional layer will have 3 input channels, 6 output channels, a kernel size of 3 (resulting in a 3x3 filter), and a stride length of 1 pixel.<br>These are passed in as <tt>nn.Conv2d(3,6,3,1)</tt>"
   ]
  },
  {
   "cell_type": "code",
   "execution_count": null,
   "metadata": {
    "executionInfo": {
     "elapsed": 439,
     "status": "ok",
     "timestamp": 1639405142626,
     "user": {
      "displayName": "Engin Tunalı",
      "photoUrl": "https://lh3.googleusercontent.com/a/default-user=s64",
      "userId": "04365200986728431923"
     },
     "user_tz": -180
    },
    "id": "7eD1h7luVvOC"
   },
   "outputs": [],
   "source": [
    "# Define layers\n",
    "conv1 = nn.Conv2d(3, 6, 5, 1)\n",
    "conv2 = nn.Conv2d(6, 16, 3, 1)"
   ]
  },
  {
   "cell_type": "code",
   "execution_count": null,
   "metadata": {
    "executionInfo": {
     "elapsed": 398,
     "status": "ok",
     "timestamp": 1639405149066,
     "user": {
      "displayName": "Engin Tunalı",
      "photoUrl": "https://lh3.googleusercontent.com/a/default-user=s64",
      "userId": "04365200986728431923"
     },
     "user_tz": -180
    },
    "id": "QMiqNzFwVvOC"
   },
   "outputs": [],
   "source": [
    "# Grab the first MNIST record\n",
    "for i, (X_train, y_train) in enumerate(train_data):\n",
    "    break"
   ]
  },
  {
   "cell_type": "code",
   "execution_count": null,
   "metadata": {
    "colab": {
     "base_uri": "https://localhost:8080/"
    },
    "executionInfo": {
     "elapsed": 1021,
     "status": "ok",
     "timestamp": 1639405150753,
     "user": {
      "displayName": "Engin Tunalı",
      "photoUrl": "https://lh3.googleusercontent.com/a/default-user=s64",
      "userId": "04365200986728431923"
     },
     "user_tz": -180
    },
    "id": "Q8mkG_lJE-7j",
    "outputId": "7dab223e-d509-4053-a7dc-a160cd22597c"
   },
   "outputs": [],
   "source": [
    "X_train.shape"
   ]
  },
  {
   "cell_type": "code",
   "execution_count": null,
   "metadata": {
    "colab": {
     "base_uri": "https://localhost:8080/"
    },
    "executionInfo": {
     "elapsed": 3093,
     "status": "ok",
     "timestamp": 1639405176855,
     "user": {
      "displayName": "Engin Tunalı",
      "photoUrl": "https://lh3.googleusercontent.com/a/default-user=s64",
      "userId": "04365200986728431923"
     },
     "user_tz": -180
    },
    "id": "7UrrbKJTVvOD",
    "outputId": "43603978-c660-4c64-80b5-77c590a9eb6f"
   },
   "outputs": [],
   "source": [
    "# Create a rank-4 tensor to be passed into the model\n",
    "# (train_loader will have done this already)\n",
    "x = X_train.view(1,3,32,32) # batch of 1 image\n",
    "print(x.shape)"
   ]
  },
  {
   "cell_type": "code",
   "execution_count": null,
   "metadata": {
    "colab": {
     "base_uri": "https://localhost:8080/"
    },
    "executionInfo": {
     "elapsed": 5,
     "status": "ok",
     "timestamp": 1639405179941,
     "user": {
      "displayName": "Engin Tunalı",
      "photoUrl": "https://lh3.googleusercontent.com/a/default-user=s64",
      "userId": "04365200986728431923"
     },
     "user_tz": -180
    },
    "id": "OOnRUm90VvOD",
    "outputId": "3425de00-1e55-41c5-fb00-613f00053b61"
   },
   "outputs": [],
   "source": [
    "# Perform the first convolution/activation\n",
    "x = F.relu(conv1(x))\n",
    "print(x.shape)"
   ]
  },
  {
   "cell_type": "code",
   "execution_count": null,
   "metadata": {
    "colab": {
     "base_uri": "https://localhost:8080/"
    },
    "executionInfo": {
     "elapsed": 304,
     "status": "ok",
     "timestamp": 1639405194374,
     "user": {
      "displayName": "Engin Tunalı",
      "photoUrl": "https://lh3.googleusercontent.com/a/default-user=s64",
      "userId": "04365200986728431923"
     },
     "user_tz": -180
    },
    "id": "S-mq7gz6VvOE",
    "outputId": "97de2f86-3050-4d1c-8fd6-35dc6b5d42fb"
   },
   "outputs": [],
   "source": [
    "# Run the first pooling layer\n",
    "x = F.max_pool2d(x, 2, 2)\n",
    "print(x.shape)"
   ]
  },
  {
   "cell_type": "code",
   "execution_count": null,
   "metadata": {
    "colab": {
     "base_uri": "https://localhost:8080/"
    },
    "executionInfo": {
     "elapsed": 376,
     "status": "ok",
     "timestamp": 1639405198950,
     "user": {
      "displayName": "Engin Tunalı",
      "photoUrl": "https://lh3.googleusercontent.com/a/default-user=s64",
      "userId": "04365200986728431923"
     },
     "user_tz": -180
    },
    "id": "WPgVbQysVvOE",
    "outputId": "6217c723-6c54-4f63-bc5d-b7e45a74d26d"
   },
   "outputs": [],
   "source": [
    "# Perform the second convolution/activation\n",
    "x = F.relu(conv2(x))\n",
    "print(x.shape)"
   ]
  },
  {
   "cell_type": "code",
   "execution_count": null,
   "metadata": {
    "colab": {
     "base_uri": "https://localhost:8080/"
    },
    "executionInfo": {
     "elapsed": 1780,
     "status": "ok",
     "timestamp": 1639405205169,
     "user": {
      "displayName": "Engin Tunalı",
      "photoUrl": "https://lh3.googleusercontent.com/a/default-user=s64",
      "userId": "04365200986728431923"
     },
     "user_tz": -180
    },
    "id": "O9PpC8XOVvOE",
    "outputId": "3d716aaf-e648-48a0-8145-4d9b90746765"
   },
   "outputs": [],
   "source": [
    "# Run the second pooling layer\n",
    "x = F.max_pool2d(x, 2, 2)\n",
    "print(x.shape)"
   ]
  },
  {
   "cell_type": "code",
   "execution_count": null,
   "metadata": {
    "colab": {
     "base_uri": "https://localhost:8080/"
    },
    "executionInfo": {
     "elapsed": 247,
     "status": "ok",
     "timestamp": 1639405222237,
     "user": {
      "displayName": "Engin Tunalı",
      "photoUrl": "https://lh3.googleusercontent.com/a/default-user=s64",
      "userId": "04365200986728431923"
     },
     "user_tz": -180
    },
    "id": "Qeh6FX21VvOF",
    "outputId": "e68b4d36-1480-4299-8a9f-e78d6ee3dcc5"
   },
   "outputs": [],
   "source": [
    "# Flatten the data\n",
    "x = x.reshape(-1, 16*6*6)\n",
    "print(x.shape)"
   ]
  },
  {
   "cell_type": "code",
   "execution_count": null,
   "metadata": {
    "executionInfo": {
     "elapsed": 294,
     "status": "ok",
     "timestamp": 1639411329264,
     "user": {
      "displayName": "Engin Tunalı",
      "photoUrl": "https://lh3.googleusercontent.com/a/default-user=s64",
      "userId": "04365200986728431923"
     },
     "user_tz": -180
    },
    "id": "8d9AWMLqaLNC"
   },
   "outputs": [],
   "source": [
    "class ConvolutionalNetwork(nn.Module):\n",
    "    def __init__(self):\n",
    "        super().__init__()\n",
    "        self.conv1 = nn.Conv2d(3, 6, 5, 1) # for one color channel 1,6,5,1\n",
    "        self.conv2 = nn.Conv2d(6, 16, 3, 1)\n",
    "        self.fc1 = nn.Linear(6*6*16, 120)\n",
    "        self.fc2 = nn.Linear(120,84)\n",
    "        self.fc3 = nn.Linear(84, 10)\n",
    "\n",
    "    def forward(self, X):\n",
    "        X = F.relu(self.conv1(X))\n",
    "        X = F.max_pool2d(X, 2, 2)\n",
    "        X = F.relu(self.conv2(X))\n",
    "        X = F.max_pool2d(X, 2, 2)\n",
    "        X = X.view(-1, 6*6*16)\n",
    "        X = F.relu(self.fc1(X))\n",
    "        X = F.relu(self.fc2(X))\n",
    "        X = self.fc3(X)\n",
    "        return X"
   ]
  },
  {
   "cell_type": "markdown",
   "metadata": {
    "id": "p_zb0kFMaLNC"
   },
   "source": [
    "<div class=\"alert alert-info\"><strong>Why <tt>(6x6x16)</tt> instead of <tt>(5x5x16)</tt>?</strong><br>\n",
    "With MNIST the kernels and pooling layers resulted in $\\;(((28−2)/2)−2)/2=5.5 \\;$ which rounds down to 5 pixels per side.<br>\n",
    "With CIFAR the result is $\\;(((32-2)/2)-2)/2 = 6.5\\;$ which rounds down to 6 pixels per side.</div>"
   ]
  },
  {
   "cell_type": "code",
   "execution_count": null,
   "metadata": {
    "colab": {
     "base_uri": "https://localhost:8080/"
    },
    "executionInfo": {
     "elapsed": 323,
     "status": "ok",
     "timestamp": 1639405250635,
     "user": {
      "displayName": "Engin Tunalı",
      "photoUrl": "https://lh3.googleusercontent.com/a/default-user=s64",
      "userId": "04365200986728431923"
     },
     "user_tz": -180
    },
    "id": "0A1_7-MtaLND",
    "outputId": "e0b7dee9-e7db-49f4-fcb3-720d1c2fe52e"
   },
   "outputs": [],
   "source": [
    "torch.manual_seed(101)\n",
    "model = ConvolutionalNetwork()\n",
    "model"
   ]
  },
  {
   "cell_type": "code",
   "execution_count": null,
   "metadata": {
    "executionInfo": {
     "elapsed": 312,
     "status": "ok",
     "timestamp": 1639405267077,
     "user": {
      "displayName": "Engin Tunalı",
      "photoUrl": "https://lh3.googleusercontent.com/a/default-user=s64",
      "userId": "04365200986728431923"
     },
     "user_tz": -180
    },
    "id": "-QtVlKBHaLND"
   },
   "outputs": [],
   "source": [
    "def count_parameters(model):\n",
    "    params = [p.numel() for p in model.parameters() if p.requires_grad]\n",
    "    for item in params:\n",
    "        print(f'{item:>6}')\n",
    "    print(f'______\\n{sum(params):>6}')"
   ]
  },
  {
   "cell_type": "code",
   "execution_count": null,
   "metadata": {
    "colab": {
     "base_uri": "https://localhost:8080/"
    },
    "executionInfo": {
     "elapsed": 383,
     "status": "ok",
     "timestamp": 1639405269439,
     "user": {
      "displayName": "Engin Tunalı",
      "photoUrl": "https://lh3.googleusercontent.com/a/default-user=s64",
      "userId": "04365200986728431923"
     },
     "user_tz": -180
    },
    "id": "LmUYPXppaLND",
    "outputId": "28304d23-9a0e-4bb0-fe20-4fe0de355b9f"
   },
   "outputs": [],
   "source": [
    "count_parameters(model)"
   ]
  },
  {
   "cell_type": "markdown",
   "metadata": {
    "id": "P_iJ3spXaLND"
   },
   "source": [
    "## Define loss function & optimizer"
   ]
  },
  {
   "cell_type": "code",
   "execution_count": null,
   "metadata": {
    "executionInfo": {
     "elapsed": 453,
     "status": "ok",
     "timestamp": 1639405353557,
     "user": {
      "displayName": "Engin Tunalı",
      "photoUrl": "https://lh3.googleusercontent.com/a/default-user=s64",
      "userId": "04365200986728431923"
     },
     "user_tz": -180
    },
    "id": "ePwtHRPRaLND"
   },
   "outputs": [],
   "source": [
    "criterion = nn.CrossEntropyLoss()\n",
    "optimizer = torch.optim.Adam(model.parameters(), lr=0.001)"
   ]
  },
  {
   "cell_type": "markdown",
   "metadata": {
    "id": "HZnxkMZyaLNE"
   },
   "source": [
    "## Train the model\n",
    "This time we'll feed the data directly into the model without flattening it first.<br>\n"
   ]
  },
  {
   "cell_type": "code",
   "execution_count": null,
   "metadata": {
    "colab": {
     "base_uri": "https://localhost:8080/"
    },
    "executionInfo": {
     "elapsed": 357026,
     "status": "ok",
     "timestamp": 1639405743540,
     "user": {
      "displayName": "Engin Tunalı",
      "photoUrl": "https://lh3.googleusercontent.com/a/default-user=s64",
      "userId": "04365200986728431923"
     },
     "user_tz": -180
    },
    "id": "tHRLvJFvaLNE",
    "outputId": "8159d0c6-824a-4181-c42c-202a010bd7ce",
    "scrolled": false
   },
   "outputs": [],
   "source": [
    "import time\n",
    "start_time = time.time()\n",
    "\n",
    "epochs = 10\n",
    "train_losses = []\n",
    "test_losses = []\n",
    "train_correct = []\n",
    "test_correct = []\n",
    "\n",
    "for i in range(epochs):\n",
    "    trn_corr = 0\n",
    "    tst_corr = 0\n",
    "    \n",
    "    # Run the training batches\n",
    "    for b, (X_train, y_train) in enumerate(train_loader):\n",
    "        b+=1\n",
    "        \n",
    "        # Apply the model\n",
    "        y_pred = model(X_train)\n",
    "        loss = criterion(y_pred, y_train)\n",
    " \n",
    "        # Tally the number of correct predictions\n",
    "        predicted = torch.max(y_pred.data, 1)[1]\n",
    "        batch_corr = (predicted == y_train).sum()\n",
    "        trn_corr += batch_corr\n",
    "        \n",
    "        # Update parameters\n",
    "        optimizer.zero_grad()\n",
    "        loss.backward()\n",
    "        optimizer.step()\n",
    "        \n",
    "        # Print interim results\n",
    "        if b%1000 == 0:\n",
    "            print(f'epoch: {i:2}  batch: {b:4} [{10*b:6}/50000]  loss: {loss.item():10.8f}  \\\n",
    "accuracy: {trn_corr.item()*100/(10*b):7.3f}%')\n",
    "        \n",
    "    train_losses.append(loss)\n",
    "    train_correct.append(trn_corr)\n",
    "        \n",
    "    # Run the testing batches\n",
    "    with torch.no_grad():\n",
    "        for b, (X_test, y_test) in enumerate(test_loader):\n",
    "\n",
    "            # Apply the model\n",
    "            y_val = model(X_test)\n",
    "\n",
    "            # Tally the number of correct predictions\n",
    "            predicted = torch.max(y_val.data, 1)[1] \n",
    "            tst_corr += (predicted == y_test).sum()\n",
    "            \n",
    "    loss = criterion(y_val, y_test)\n",
    "    test_losses.append(loss)\n",
    "    test_correct.append(tst_corr)\n",
    "        \n",
    "print(f'\\nDuration: {time.time() - start_time:.0f} seconds') # print the time elapsed            "
   ]
  },
  {
   "cell_type": "markdown",
   "metadata": {
    "id": "fHGRl7A3aLNE"
   },
   "source": [
    "## Optional: Save the model\n",
    "This will save your trained model, without overwriting the saved model we have provided called <strong>CIFAR10-CNN-Model-master.pt</strong>"
   ]
  },
  {
   "cell_type": "code",
   "execution_count": null,
   "metadata": {
    "executionInfo": {
     "elapsed": 269,
     "status": "ok",
     "timestamp": 1639406260990,
     "user": {
      "displayName": "Engin Tunalı",
      "photoUrl": "https://lh3.googleusercontent.com/a/default-user=s64",
      "userId": "04365200986728431923"
     },
     "user_tz": -180
    },
    "id": "KDi5SfXqaLNE"
   },
   "outputs": [],
   "source": [
    "torch.save(model.state_dict(), 'CIFAR10_CNN_Model.pt')"
   ]
  },
  {
   "cell_type": "markdown",
   "metadata": {
    "id": "VowzqfC0aLNE"
   },
   "source": [
    "## Plot the loss and accuracy comparisons"
   ]
  },
  {
   "cell_type": "code",
   "execution_count": null,
   "metadata": {
    "colab": {
     "base_uri": "https://localhost:8080/",
     "height": 281
    },
    "executionInfo": {
     "elapsed": 897,
     "status": "ok",
     "timestamp": 1639406123827,
     "user": {
      "displayName": "Engin Tunalı",
      "photoUrl": "https://lh3.googleusercontent.com/a/default-user=s64",
      "userId": "04365200986728431923"
     },
     "user_tz": -180
    },
    "id": "1yOJaTuxaLNE",
    "outputId": "76d506f6-8a5e-4a3b-e08a-00f7611653c4"
   },
   "outputs": [],
   "source": [
    "with torch.no_grad():\n",
    "    plt.plot(train_losses, label='training loss')\n",
    "    plt.plot(test_losses, label='validation loss')\n",
    "    plt.title('Loss at the end of each epoch')\n",
    "    plt.legend();"
   ]
  },
  {
   "cell_type": "code",
   "execution_count": null,
   "metadata": {
    "colab": {
     "base_uri": "https://localhost:8080/",
     "height": 281
    },
    "executionInfo": {
     "elapsed": 323,
     "status": "ok",
     "timestamp": 1639406127121,
     "user": {
      "displayName": "Engin Tunalı",
      "photoUrl": "https://lh3.googleusercontent.com/a/default-user=s64",
      "userId": "04365200986728431923"
     },
     "user_tz": -180
    },
    "id": "pxQI1IRlaLNE",
    "outputId": "b143fb5f-60da-4b89-ec56-817104a2177f"
   },
   "outputs": [],
   "source": [
    "with torch.no_grad():\n",
    "    plt.plot([t/500 for t in train_correct], label='training accuracy')\n",
    "    plt.plot([t/100 for t in test_correct], label='validation accuracy')\n",
    "    plt.title('Accuracy at the end of each epoch')\n",
    "    plt.legend();"
   ]
  },
  {
   "cell_type": "markdown",
   "metadata": {
    "id": "hftr7qMXaLNE"
   },
   "source": [
    "## Evaluate Test Data"
   ]
  },
  {
   "cell_type": "code",
   "execution_count": null,
   "metadata": {
    "colab": {
     "base_uri": "https://localhost:8080/"
    },
    "executionInfo": {
     "elapsed": 324,
     "status": "ok",
     "timestamp": 1639406135212,
     "user": {
      "displayName": "Engin Tunalı",
      "photoUrl": "https://lh3.googleusercontent.com/a/default-user=s64",
      "userId": "04365200986728431923"
     },
     "user_tz": -180
    },
    "id": "Pr488dLbaLNE",
    "outputId": "cb61dbc2-15af-4cde-b9bf-295d44e1293b"
   },
   "outputs": [],
   "source": [
    "print(test_correct) # contains the results of all 10 epochs\n",
    "print()\n",
    "print(f'Test accuracy: {test_correct[-1].item()*100/10000:.3f}%') # print the most recent result as a percent"
   ]
  },
  {
   "cell_type": "markdown",
   "metadata": {
    "id": "bdCQZcG8aLNF"
   },
   "source": [
    "This is not as impressive as with MNIST, which makes sense. We would have to adjust our parameters to obtain better results.<br>\n",
    "Still, it's much better than the 10% we'd get with random chance!"
   ]
  },
  {
   "cell_type": "markdown",
   "metadata": {
    "id": "VVgHonMOaLNF"
   },
   "source": [
    "## Display the confusion matrix\n",
    "In order to map predictions against ground truth, we need to run the entire test set through the model.<br>\n",
    "Also, since our model was not as accurate as with MNIST, we'll use a <a href='https://seaborn.pydata.org/generated/seaborn.heatmap.html'>heatmap</a> to better display the results."
   ]
  },
  {
   "cell_type": "code",
   "execution_count": null,
   "metadata": {
    "colab": {
     "base_uri": "https://localhost:8080/",
     "height": 392
    },
    "executionInfo": {
     "elapsed": 4477,
     "status": "ok",
     "timestamp": 1639406156000,
     "user": {
      "displayName": "Engin Tunalı",
      "photoUrl": "https://lh3.googleusercontent.com/a/default-user=s64",
      "userId": "04365200986728431923"
     },
     "user_tz": -180
    },
    "id": "nc0fvWAyaLNF",
    "outputId": "7ddac5b5-c09d-4c92-dbf0-94d2ed0fa296"
   },
   "outputs": [],
   "source": [
    "# Create a loader for the entire the test set\n",
    "test_load_all = DataLoader(test_data, batch_size=10000, shuffle=False)\n",
    "\n",
    "with torch.no_grad():\n",
    "    correct = 0\n",
    "    for X_test, y_test in test_load_all:\n",
    "        y_val = model(X_test)\n",
    "        predicted = torch.max(y_val,1)[1]\n",
    "        correct += (predicted == y_test).sum()\n",
    "\n",
    "arr = confusion_matrix(y_test.view(-1), predicted.view(-1))\n",
    "df_cm = pd.DataFrame(arr, class_names, class_names)\n",
    "plt.figure(figsize = (9,6))\n",
    "sn.heatmap(df_cm, annot=True, fmt=\"d\", cmap='BuGn')\n",
    "plt.xlabel(\"prediction\")\n",
    "plt.ylabel(\"label (ground truth)\")\n",
    "plt.show();"
   ]
  },
  {
   "cell_type": "markdown",
   "metadata": {
    "id": "W_A6sfYoaLNF"
   },
   "source": [
    "For more info on the above chart, visit the docs on <a href='https://scikit-learn.org/stable/modules/generated/sklearn.metrics.confusion_matrix.html'>scikit-learn's confusion_matrix</a>, <a href='https://seaborn.pydata.org/generated/seaborn.heatmap.html'>seaborn heatmaps</a>, and <a href='https://matplotlib.org/3.1.0/tutorials/colors/colormaps.html'>matplotlib colormaps</a>. "
   ]
  },
  {
   "cell_type": "markdown",
   "metadata": {
    "id": "vxHYAn0KaLNF"
   },
   "source": [
    "## Examine the misses\n",
    "We can track the index positions of \"missed\" predictions, and extract the corresponding image and label. We'll do this in batches to save screen space."
   ]
  },
  {
   "cell_type": "code",
   "execution_count": null,
   "metadata": {
    "colab": {
     "base_uri": "https://localhost:8080/"
    },
    "executionInfo": {
     "elapsed": 310,
     "status": "ok",
     "timestamp": 1639406167566,
     "user": {
      "displayName": "Engin Tunalı",
      "photoUrl": "https://lh3.googleusercontent.com/a/default-user=s64",
      "userId": "04365200986728431923"
     },
     "user_tz": -180
    },
    "id": "O4K8_OU1aLNF",
    "outputId": "5a66fdc0-4e0f-41ee-e368-a10ab6b7239d"
   },
   "outputs": [],
   "source": [
    "misses = np.array([])\n",
    "for i in range(len(predicted.view(-1))):\n",
    "    if predicted[i] != y_test[i]:\n",
    "        misses = np.append(misses,i).astype('int64')\n",
    "        \n",
    "# Display the number of misses\n",
    "len(misses)"
   ]
  },
  {
   "cell_type": "code",
   "execution_count": null,
   "metadata": {
    "colab": {
     "base_uri": "https://localhost:8080/"
    },
    "executionInfo": {
     "elapsed": 415,
     "status": "ok",
     "timestamp": 1639406169822,
     "user": {
      "displayName": "Engin Tunalı",
      "photoUrl": "https://lh3.googleusercontent.com/a/default-user=s64",
      "userId": "04365200986728431923"
     },
     "user_tz": -180
    },
    "id": "1XeB7dFDaLNF",
    "outputId": "2fca5057-d3d6-4dd6-a61c-abd7055439e6"
   },
   "outputs": [],
   "source": [
    "# Display the first 8 index positions\n",
    "misses[:8]"
   ]
  },
  {
   "cell_type": "code",
   "execution_count": null,
   "metadata": {
    "executionInfo": {
     "elapsed": 329,
     "status": "ok",
     "timestamp": 1639406173512,
     "user": {
      "displayName": "Engin Tunalı",
      "photoUrl": "https://lh3.googleusercontent.com/a/default-user=s64",
      "userId": "04365200986728431923"
     },
     "user_tz": -180
    },
    "id": "-wPPtB70aLNF"
   },
   "outputs": [],
   "source": [
    "# Set up an iterator to feed batched rows\n",
    "r = 8   # row size\n",
    "row = iter(np.array_split(misses,len(misses)//r+1))"
   ]
  },
  {
   "cell_type": "markdown",
   "metadata": {
    "id": "-nC_LaQ8aLNF"
   },
   "source": [
    "Now that everything is set up, run and re-run the cell below to view all of the missed predictions.<br>\n",
    "Use <kbd>Ctrl+Enter</kbd> to remain on the cell between runs. You'll see a <tt>StopIteration</tt> once all the misses have been seen."
   ]
  },
  {
   "cell_type": "code",
   "execution_count": null,
   "metadata": {
    "colab": {
     "base_uri": "https://localhost:8080/",
     "height": 213
    },
    "executionInfo": {
     "elapsed": 529,
     "status": "ok",
     "timestamp": 1639406176489,
     "user": {
      "displayName": "Engin Tunalı",
      "photoUrl": "https://lh3.googleusercontent.com/a/default-user=s64",
      "userId": "04365200986728431923"
     },
     "user_tz": -180
    },
    "id": "d0LtzcTtaLNF",
    "outputId": "3baa712f-e6ad-4a7b-ca9f-509d7e46451f"
   },
   "outputs": [],
   "source": [
    "np.set_printoptions(formatter=dict(int=lambda x: f'{x:5}')) # to widen the printed array\n",
    "\n",
    "nextrow = next(row)\n",
    "lbls = y_test.index_select(0,torch.tensor(nextrow)).numpy()\n",
    "gues = predicted.index_select(0,torch.tensor(nextrow)).numpy()\n",
    "print(\"Index:\", nextrow)\n",
    "print(\"Label:\", lbls)\n",
    "print(\"Class: \", *np.array([class_names[i] for i in lbls]))\n",
    "print()\n",
    "print(\"Guess:\", gues)\n",
    "print(\"Class: \", *np.array([class_names[i] for i in gues]))\n",
    "\n",
    "images = X_test.index_select(0,torch.tensor(nextrow))\n",
    "im = make_grid(images, nrow=r)\n",
    "plt.figure(figsize=(8,4))\n",
    "plt.imshow(np.transpose(im.numpy(), (1, 2, 0)));"
   ]
  },
  {
   "cell_type": "markdown",
   "metadata": {
    "id": "JNG8eLG7aLNG"
   },
   "source": [
    "<div class=\"alert alert-info\"><font color=blue><h2>Optional: Load a Saved Model</h2>\n",
    "In the event that training the ConvolutionalNetwork takes too long, you can load a trained version by running the following code:</font>\n",
    "<pre style='background-color:rgb(217,237,247)'>\n",
    "model2 = ConvolutionalNetwork()\n",
    "model2.load_state_dict(torch.load('CIFAR10-CNN-Model-master.pt'))\n",
    "model2.eval()</pre>\n",
    "</div>"
   ]
  },
  {
   "cell_type": "code",
   "execution_count": null,
   "metadata": {
    "colab": {
     "base_uri": "https://localhost:8080/"
    },
    "executionInfo": {
     "elapsed": 283,
     "status": "ok",
     "timestamp": 1639411341041,
     "user": {
      "displayName": "Engin Tunalı",
      "photoUrl": "https://lh3.googleusercontent.com/a/default-user=s64",
      "userId": "04365200986728431923"
     },
     "user_tz": -180
    },
    "id": "R85lBgg3aLNG",
    "outputId": "c6e1bbb0-89de-48d8-cb62-94d93b434752"
   },
   "outputs": [],
   "source": [
    "# Instantiate the model and load saved parameters\n",
    "model2 = ConvolutionalNetwork()\n",
    "model2.load_state_dict(torch.load('CIFAR10_CNN_Model.pt'))\n",
    "model2.eval()"
   ]
  },
  {
   "cell_type": "code",
   "execution_count": null,
   "metadata": {
    "colab": {
     "base_uri": "https://localhost:8080/"
    },
    "executionInfo": {
     "elapsed": 3682,
     "status": "ok",
     "timestamp": 1639411371983,
     "user": {
      "displayName": "Engin Tunalı",
      "photoUrl": "https://lh3.googleusercontent.com/a/default-user=s64",
      "userId": "04365200986728431923"
     },
     "user_tz": -180
    },
    "id": "Ew-MWg7eaLNG",
    "outputId": "59e09785-4514-4623-8a8c-0c7a066ec14b"
   },
   "outputs": [],
   "source": [
    "# Evaluate the saved model against the test set\n",
    "test_load_all = DataLoader(test_data, batch_size=10000, shuffle=False)\n",
    "\n",
    "with torch.no_grad():\n",
    "    correct = 0\n",
    "    for X_test, y_test in test_load_all:\n",
    "        y_val = model2(X_test)\n",
    "        predicted = torch.max(y_val,1)[1]\n",
    "        correct += (predicted == y_test).sum()\n",
    "        \n",
    "print(f'Test accuracy: {correct.item()}/{len(test_data)} = {correct.item()*100/(len(test_data)):7.3f}%')"
   ]
  },
  {
   "cell_type": "code",
   "execution_count": null,
   "metadata": {
    "colab": {
     "base_uri": "https://localhost:8080/",
     "height": 233
    },
    "executionInfo": {
     "elapsed": 271,
     "status": "error",
     "timestamp": 1639411376047,
     "user": {
      "displayName": "Engin Tunalı",
      "photoUrl": "https://lh3.googleusercontent.com/a/default-user=s64",
      "userId": "04365200986728431923"
     },
     "user_tz": -180
    },
    "id": "Aq8a6Q4kaLNG",
    "outputId": "61d05254-6358-4376-e15b-a3353ba9d8e6"
   },
   "outputs": [],
   "source": [
    "# Display the confusion matrix as a heatmap\n",
    "arr = confusion_matrix(y_test.view(-1), predicted.view(-1))\n",
    "df_cm = pd.DataFrame(arr, class_names, class_names)\n",
    "plt.figure(figsize = (9,6))\n",
    "sn.heatmap(df_cm, annot=True, fmt=\"d\", cmap='BuGn')\n",
    "plt.xlabel(\"prediction\")\n",
    "plt.ylabel(\"label (ground truth)\")\n",
    "plt.show();"
   ]
  }
 ],
 "metadata": {
  "colab": {
   "collapsed_sections": [],
   "name": "CIFAR_CNN.ipynb",
   "provenance": []
  },
  "kernelspec": {
   "display_name": "Python 3",
   "language": "python",
   "name": "python3"
  },
  "language_info": {
   "codemirror_mode": {
    "name": "ipython",
    "version": 3
   },
   "file_extension": ".py",
   "mimetype": "text/x-python",
   "name": "python",
   "nbconvert_exporter": "python",
   "pygments_lexer": "ipython3",
   "version": "3.8.8"
  }
 },
 "nbformat": 4,
 "nbformat_minor": 1
}
