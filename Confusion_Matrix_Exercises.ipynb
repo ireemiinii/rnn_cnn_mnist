{
  "nbformat": 4,
  "nbformat_minor": 0,
  "metadata": {
    "colab": {
      "name": "Confusion_Matrix_Exercises.ipynb",
      "provenance": [],
      "collapsed_sections": []
    },
    "kernelspec": {
      "name": "python3",
      "display_name": "Python 3"
    },
    "language_info": {
      "name": "python"
    }
  },
  "cells": [
    {
      "cell_type": "code",
      "metadata": {
        "id": "hjNX-v-8itJz"
      },
      "source": [
        "# confusion matrix in sklearn\n",
        "from sklearn.metrics import confusion_matrix\n",
        "from sklearn.metrics import classification_report"
      ],
      "execution_count": null,
      "outputs": []
    },
    {
      "cell_type": "code",
      "metadata": {
        "id": "qkN6O_nsiyP0"
      },
      "source": [
        "# actual values\n",
        "actual = [1,0,0,1,0,0,1,0,0,1]\n",
        "# predicted values\n",
        "predicted = [1,0,0,1,0,0,0,1,0,0]"
      ],
      "execution_count": null,
      "outputs": []
    },
    {
      "cell_type": "code",
      "metadata": {
        "colab": {
          "base_uri": "https://localhost:8080/"
        },
        "id": "mGlr8MkajRHt",
        "outputId": "3977b61a-b9e8-45cb-c3f8-a8002db84bee"
      },
      "source": [
        "# confusion matrix\n",
        "matrix = confusion_matrix(actual,predicted, labels=[1,0])\n",
        "print('Confusion matrix : \\n',matrix)"
      ],
      "execution_count": null,
      "outputs": [
        {
          "output_type": "stream",
          "name": "stdout",
          "text": [
            "Confusion matrix : \n",
            " [[2 2]\n",
            " [1 5]]\n"
          ]
        }
      ]
    },
    {
      "cell_type": "code",
      "metadata": {
        "colab": {
          "base_uri": "https://localhost:8080/"
        },
        "id": "J0vc7oV1kK90",
        "outputId": "e6f8fb62-dbef-4449-ce51-567f42110509"
      },
      "source": [
        "# outcome values order in sklearn\n",
        "tp, fn, fp, tn = confusion_matrix(actual,predicted,labels=[1,0]).reshape(-1)\n",
        "print('Outcome values : \\n', tp, fn, fp, tn)"
      ],
      "execution_count": null,
      "outputs": [
        {
          "output_type": "stream",
          "name": "stdout",
          "text": [
            "Outcome values : \n",
            " 2 2 1 5\n"
          ]
        }
      ]
    },
    {
      "cell_type": "code",
      "metadata": {
        "colab": {
          "base_uri": "https://localhost:8080/"
        },
        "id": "1kxYnDl9kqk6",
        "outputId": "9f42fc77-6c52-4d8b-d25a-a67842ca225f"
      },
      "source": [
        "# classification report for precision, recall f1-score and accuracy\n",
        "matrix = classification_report(actual,predicted,labels=[1,0])\n",
        "print('Classification report : \\n',matrix)"
      ],
      "execution_count": null,
      "outputs": [
        {
          "output_type": "stream",
          "name": "stdout",
          "text": [
            "Classification report : \n",
            "               precision    recall  f1-score   support\n",
            "\n",
            "           1       0.67      0.50      0.57         4\n",
            "           0       0.71      0.83      0.77         6\n",
            "\n",
            "    accuracy                           0.70        10\n",
            "   macro avg       0.69      0.67      0.67        10\n",
            "weighted avg       0.70      0.70      0.69        10\n",
            "\n"
          ]
        }
      ]
    },
    {
      "cell_type": "markdown",
      "metadata": {
        "id": "LyF5QpIilwiD"
      },
      "source": [
        "## precision\n",
        "Precision can be seen as a measure of a classifier’s exactness. For each class, it is defined as the ratio of true positives to the sum of true and false positives. Said another way, “for all instances classified positive, what percent was correct?”\n",
        "\n",
        "## recall\n",
        "Recall is a measure of the classifier’s completeness; the ability of a classifier to correctly find all positive instances. For each class, it is defined as the ratio of true positives to the sum of true positives and false negatives. Said another way, “for all instances that were actually positive, what percent was classified correctly?”\n",
        "\n",
        "## f1 score\n",
        "The F1 score is a weighted harmonic mean of precision and recall such that the best score is 1.0 and the worst is 0.0. Generally speaking, F1 scores are lower than accuracy measures as they embed precision and recall into their computation. As a rule of thumb, the weighted average of F1 should be used to compare classifier models, not global accuracy.\n",
        "\n",
        "## support\n",
        "Support is the number of actual occurrences of the class in the specified dataset. Imbalanced support in the training data may indicate structural weaknesses in the reported scores of the classifier and could indicate the need for stratified sampling or rebalancing. Support doesn’t change between models but instead diagnoses the evaluation process."
      ]
    },
    {
      "cell_type": "markdown",
      "metadata": {
        "id": "heRKPKepmpV4"
      },
      "source": [
        "In the case of weighted average the performance metrics are weighted accordingly:\n",
        "\n",
        "scoreweighted-avg=0.6⋅scoreclass_0 + 0.4⋅scoreclass_1\n",
        "\n",
        "However, macro avg is not weighted and therefore\n",
        "\n",
        "scoremacro_avg=0.5⋅scoreclass_0+0.5⋅scoreclass_1\n",
        "\n"
      ]
    },
    {
      "cell_type": "markdown",
      "metadata": {
        "id": "0-yJNMcBnOXB"
      },
      "source": [
        "## Pandas Example"
      ]
    },
    {
      "cell_type": "code",
      "metadata": {
        "colab": {
          "base_uri": "https://localhost:8080/"
        },
        "id": "OLqnhyWanSrw",
        "outputId": "6a450d19-0f81-4b9c-c6b1-01fbffff63b0"
      },
      "source": [
        "import pandas as pd\n",
        "\n",
        "data = {'y_Actual':    [1, 0, 0, 1, 0, 1, 0, 0, 1, 0, 1, 0],\n",
        "        'y_Predicted': [1, 1, 0, 1, 0, 1, 1, 0, 1, 0, 0, 0]\n",
        "        }\n",
        "\n",
        "df = pd.DataFrame(data, columns=['y_Actual','y_Predicted'])\n",
        "print (df)"
      ],
      "execution_count": null,
      "outputs": [
        {
          "output_type": "stream",
          "name": "stdout",
          "text": [
            "    y_Actual  y_Predicted\n",
            "0          1            1\n",
            "1          0            1\n",
            "2          0            0\n",
            "3          1            1\n",
            "4          0            0\n",
            "5          1            1\n",
            "6          0            1\n",
            "7          0            0\n",
            "8          1            1\n",
            "9          0            0\n",
            "10         1            0\n",
            "11         0            0\n"
          ]
        }
      ]
    },
    {
      "cell_type": "code",
      "metadata": {
        "colab": {
          "base_uri": "https://localhost:8080/"
        },
        "id": "J4YjWvNEnVkp",
        "outputId": "59ae3037-a73c-465b-bd4e-552e9ef4e186"
      },
      "source": [
        "confusion_matrix = pd.crosstab(df['y_Actual'], df['y_Predicted'], rownames=['Actual'], colnames=['Predicted'])\n",
        "print (confusion_matrix)"
      ],
      "execution_count": null,
      "outputs": [
        {
          "output_type": "stream",
          "name": "stdout",
          "text": [
            "Predicted  0  1\n",
            "Actual         \n",
            "0          5  2\n",
            "1          1  4\n"
          ]
        }
      ]
    },
    {
      "cell_type": "markdown",
      "metadata": {
        "id": "PpAq8Wr1njKL"
      },
      "source": [
        "## Displaying the Confusion Matrix using seaborn\n"
      ]
    },
    {
      "cell_type": "code",
      "metadata": {
        "colab": {
          "base_uri": "https://localhost:8080/",
          "height": 283
        },
        "id": "WWwRS2mmnlpG",
        "outputId": "49fd8dea-9bf6-4000-b92c-f75cef79bb21"
      },
      "source": [
        "import seaborn as sn\n",
        "import matplotlib.pyplot as plt\n",
        "\n",
        "data = {'y_Actual':    [1, 0, 0, 1, 0, 1, 0, 0, 1, 0, 1, 0],\n",
        "        'y_Predicted': [1, 1, 0, 1, 0, 1, 1, 0, 1, 0, 0, 0]\n",
        "        }\n",
        "\n",
        "df = pd.DataFrame(data, columns=['y_Actual','y_Predicted'])\n",
        "confusion_matrix = pd.crosstab(df['y_Actual'], df['y_Predicted'], rownames=['Actual'], colnames=['Predicted'])\n",
        "\n",
        "sn.heatmap(confusion_matrix, annot=True)\n",
        "plt.show()"
      ],
      "execution_count": null,
      "outputs": [
        {
          "output_type": "display_data",
          "data": {
            "image/png": "[encoded data removed]",
            "text/plain": [
              "<Figure size 432x288 with 2 Axes>"
            ]
          },
          "metadata": {
            "needs_background": "light"
          }
        }
      ]
    },
    {
      "cell_type": "code",
      "metadata": {
        "id": "Y6QG3Ly8oAV8"
      },
      "source": [
        ""
      ],
      "execution_count": null,
      "outputs": []
    }
  ]
}